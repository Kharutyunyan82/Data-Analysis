{
  "cells": [
    {
      "cell_type": "markdown",
      "metadata": {
        "id": "view-in-github",
        "colab_type": "text"
      },
      "source": [
        "<a href=\"https://colab.research.google.com/github/Mefistofel82/Data-Analysis/blob/main/Uber_Data_analysis/Uber_Data_Analysis.ipynb\" target=\"_parent\"><img src=\"https://colab.research.google.com/assets/colab-badge.svg\" alt=\"Open In Colab\"/></a>"
      ]
    },
    {
      "cell_type": "code",
      "execution_count": null,
      "metadata": {
        "ExecuteTime": {
          "end_time": "2022-04-24T16:49:48.415985Z",
          "start_time": "2022-04-24T16:49:48.395090Z"
        },
        "id": "1etyFBlvw1e4"
      },
      "outputs": [],
      "source": [
        "import numpy as np\n",
        "import pandas as pd\n",
        "import matplotlib.pyplot as plt\n",
        "import seaborn as sns\n",
        "%matplotlib inline"
      ]
    },
    {
      "cell_type": "code",
      "execution_count": null,
      "metadata": {
        "ExecuteTime": {
          "end_time": "2022-04-24T23:48:09.468557Z",
          "start_time": "2022-04-24T23:48:09.038782Z"
        },
        "id": "EH7fDKEaw1e9"
      },
      "outputs": [],
      "source": [
        "uber_data = pd.read_csv('uber-raw-data-jul14.csv')"
      ]
    },
    {
      "cell_type": "code",
      "execution_count": null,
      "metadata": {
        "ExecuteTime": {
          "end_time": "2022-04-24T23:48:10.396100Z",
          "start_time": "2022-04-24T23:48:10.374437Z"
        },
        "id": "-pP6fEdHw1e_",
        "outputId": "fff2f73c-431b-464f-bdce-9f1d7a38949e"
      },
      "outputs": [
        {
          "data": {
            "text/html": [
              "<div>\n",
              "<style scoped>\n",
              "    .dataframe tbody tr th:only-of-type {\n",
              "        vertical-align: middle;\n",
              "    }\n",
              "\n",
              "    .dataframe tbody tr th {\n",
              "        vertical-align: top;\n",
              "    }\n",
              "\n",
              "    .dataframe thead th {\n",
              "        text-align: right;\n",
              "    }\n",
              "</style>\n",
              "<table border=\"1\" class=\"dataframe\">\n",
              "  <thead>\n",
              "    <tr style=\"text-align: right;\">\n",
              "      <th></th>\n",
              "      <th>Date/Time</th>\n",
              "      <th>Lat</th>\n",
              "      <th>Lon</th>\n",
              "      <th>Base</th>\n",
              "    </tr>\n",
              "  </thead>\n",
              "  <tbody>\n",
              "    <tr>\n",
              "      <th>0</th>\n",
              "      <td>7/1/2014 0:03:00</td>\n",
              "      <td>40.7586</td>\n",
              "      <td>-73.9706</td>\n",
              "      <td>B02512</td>\n",
              "    </tr>\n",
              "    <tr>\n",
              "      <th>1</th>\n",
              "      <td>7/1/2014 0:05:00</td>\n",
              "      <td>40.7605</td>\n",
              "      <td>-73.9994</td>\n",
              "      <td>B02512</td>\n",
              "    </tr>\n",
              "    <tr>\n",
              "      <th>2</th>\n",
              "      <td>7/1/2014 0:06:00</td>\n",
              "      <td>40.7320</td>\n",
              "      <td>-73.9999</td>\n",
              "      <td>B02512</td>\n",
              "    </tr>\n",
              "    <tr>\n",
              "      <th>3</th>\n",
              "      <td>7/1/2014 0:09:00</td>\n",
              "      <td>40.7635</td>\n",
              "      <td>-73.9793</td>\n",
              "      <td>B02512</td>\n",
              "    </tr>\n",
              "    <tr>\n",
              "      <th>4</th>\n",
              "      <td>7/1/2014 0:20:00</td>\n",
              "      <td>40.7204</td>\n",
              "      <td>-74.0047</td>\n",
              "      <td>B02512</td>\n",
              "    </tr>\n",
              "  </tbody>\n",
              "</table>\n",
              "</div>"
            ],
            "text/plain": [
              "          Date/Time      Lat      Lon    Base\n",
              "0  7/1/2014 0:03:00  40.7586 -73.9706  B02512\n",
              "1  7/1/2014 0:05:00  40.7605 -73.9994  B02512\n",
              "2  7/1/2014 0:06:00  40.7320 -73.9999  B02512\n",
              "3  7/1/2014 0:09:00  40.7635 -73.9793  B02512\n",
              "4  7/1/2014 0:20:00  40.7204 -74.0047  B02512"
            ]
          },
          "execution_count": 25,
          "metadata": {},
          "output_type": "execute_result"
        }
      ],
      "source": [
        "uber_data.head()"
      ]
    },
    {
      "cell_type": "code",
      "execution_count": null,
      "metadata": {
        "ExecuteTime": {
          "end_time": "2022-04-24T23:48:11.518758Z",
          "start_time": "2022-04-24T23:48:11.421555Z"
        },
        "id": "8Ou-30PQw1fD",
        "outputId": "892421e1-03f1-4e7f-e6a8-20cd2555aa38"
      },
      "outputs": [
        {
          "name": "stdout",
          "output_type": "stream",
          "text": [
            "<class 'pandas.core.frame.DataFrame'>\n",
            "RangeIndex: 796121 entries, 0 to 796120\n",
            "Data columns (total 4 columns):\n",
            " #   Column     Non-Null Count   Dtype  \n",
            "---  ------     --------------   -----  \n",
            " 0   Date/Time  796121 non-null  object \n",
            " 1   Lat        796121 non-null  float64\n",
            " 2   Lon        796121 non-null  float64\n",
            " 3   Base       796121 non-null  object \n",
            "dtypes: float64(2), object(2)\n",
            "memory usage: 24.3+ MB\n"
          ]
        }
      ],
      "source": [
        "uber_data.info()"
      ]
    },
    {
      "cell_type": "code",
      "execution_count": null,
      "metadata": {
        "ExecuteTime": {
          "end_time": "2022-04-24T23:48:12.783664Z",
          "start_time": "2022-04-24T23:48:12.480228Z"
        },
        "id": "c1-45Gjxw1fF",
        "outputId": "1858aeae-72e2-4069-9882-7c2472d5fec7"
      },
      "outputs": [
        {
          "name": "stdout",
          "output_type": "stream",
          "text": [
            "Number of missing /null values per column\n",
            "Date/Time    0\n",
            "Lat          0\n",
            "Lon          0\n",
            "Base         0\n",
            "dtype: int64\n"
          ]
        }
      ],
      "source": [
        "# Missing values checking\n",
        "\n",
        "def num_missing(x):\n",
        "    return sum(x.isnull())\n",
        "print('Number of missing /null values per column')\n",
        "print(uber_data.apply(num_missing, axis=0))"
      ]
    },
    {
      "cell_type": "code",
      "execution_count": null,
      "metadata": {
        "ExecuteTime": {
          "end_time": "2022-04-24T23:48:13.086365Z",
          "start_time": "2022-04-24T23:48:12.996787Z"
        },
        "id": "iGDWsXmJw1fH",
        "outputId": "79b8401f-c401-403a-e18e-e50ed0e8c8f5"
      },
      "outputs": [
        {
          "data": {
            "text/plain": [
              "Date/Time    0\n",
              "Lat          0\n",
              "Lon          0\n",
              "Base         0\n",
              "dtype: int64"
            ]
          },
          "execution_count": 28,
          "metadata": {},
          "output_type": "execute_result"
        }
      ],
      "source": [
        "uber_data.isna().sum()"
      ]
    },
    {
      "cell_type": "code",
      "execution_count": null,
      "metadata": {
        "ExecuteTime": {
          "end_time": "2022-04-24T23:48:13.709209Z",
          "start_time": "2022-04-24T23:48:13.691290Z"
        },
        "id": "iDO36aAMw1fJ",
        "outputId": "d6c1d26f-6fe1-4df9-a263-31abe298a7c5"
      },
      "outputs": [
        {
          "data": {
            "text/plain": [
              "Index(['Date/Time', 'Lat', 'Lon', 'Base'], dtype='object')"
            ]
          },
          "execution_count": 29,
          "metadata": {},
          "output_type": "execute_result"
        }
      ],
      "source": [
        "uber_data.columns"
      ]
    },
    {
      "cell_type": "code",
      "execution_count": null,
      "metadata": {
        "ExecuteTime": {
          "end_time": "2022-04-24T23:48:14.376881Z",
          "start_time": "2022-04-24T23:48:14.366907Z"
        },
        "id": "YLTdM7ZDw1fM",
        "outputId": "6b54b9ac-7ae2-4f8b-f0a9-f4706339a177"
      },
      "outputs": [
        {
          "data": {
            "text/html": [
              "<div>\n",
              "<style scoped>\n",
              "    .dataframe tbody tr th:only-of-type {\n",
              "        vertical-align: middle;\n",
              "    }\n",
              "\n",
              "    .dataframe tbody tr th {\n",
              "        vertical-align: top;\n",
              "    }\n",
              "\n",
              "    .dataframe thead th {\n",
              "        text-align: right;\n",
              "    }\n",
              "</style>\n",
              "<table border=\"1\" class=\"dataframe\">\n",
              "  <thead>\n",
              "    <tr style=\"text-align: right;\">\n",
              "      <th></th>\n",
              "      <th>Date/Time</th>\n",
              "      <th>Lat</th>\n",
              "      <th>Lon</th>\n",
              "      <th>Base</th>\n",
              "    </tr>\n",
              "  </thead>\n",
              "  <tbody>\n",
              "    <tr>\n",
              "      <th>0</th>\n",
              "      <td>7/1/2014 0:03:00</td>\n",
              "      <td>40.7586</td>\n",
              "      <td>-73.9706</td>\n",
              "      <td>B02512</td>\n",
              "    </tr>\n",
              "    <tr>\n",
              "      <th>1</th>\n",
              "      <td>7/1/2014 0:05:00</td>\n",
              "      <td>40.7605</td>\n",
              "      <td>-73.9994</td>\n",
              "      <td>B02512</td>\n",
              "    </tr>\n",
              "    <tr>\n",
              "      <th>2</th>\n",
              "      <td>7/1/2014 0:06:00</td>\n",
              "      <td>40.7320</td>\n",
              "      <td>-73.9999</td>\n",
              "      <td>B02512</td>\n",
              "    </tr>\n",
              "    <tr>\n",
              "      <th>3</th>\n",
              "      <td>7/1/2014 0:09:00</td>\n",
              "      <td>40.7635</td>\n",
              "      <td>-73.9793</td>\n",
              "      <td>B02512</td>\n",
              "    </tr>\n",
              "    <tr>\n",
              "      <th>4</th>\n",
              "      <td>7/1/2014 0:20:00</td>\n",
              "      <td>40.7204</td>\n",
              "      <td>-74.0047</td>\n",
              "      <td>B02512</td>\n",
              "    </tr>\n",
              "  </tbody>\n",
              "</table>\n",
              "</div>"
            ],
            "text/plain": [
              "          Date/Time      Lat      Lon    Base\n",
              "0  7/1/2014 0:03:00  40.7586 -73.9706  B02512\n",
              "1  7/1/2014 0:05:00  40.7605 -73.9994  B02512\n",
              "2  7/1/2014 0:06:00  40.7320 -73.9999  B02512\n",
              "3  7/1/2014 0:09:00  40.7635 -73.9793  B02512\n",
              "4  7/1/2014 0:20:00  40.7204 -74.0047  B02512"
            ]
          },
          "execution_count": 30,
          "metadata": {},
          "output_type": "execute_result"
        }
      ],
      "source": [
        "uber_data.head()"
      ]
    },
    {
      "cell_type": "code",
      "execution_count": null,
      "metadata": {
        "ExecuteTime": {
          "end_time": "2022-04-25T07:53:57.440379Z",
          "start_time": "2022-04-25T07:53:57.030228Z"
        },
        "id": "OfsZP5DJw1fO"
      },
      "outputs": [],
      "source": [
        "# Extracting additional information\n",
        "\n",
        "uber_data['Date/Time'] = pd.to_datetime(uber_data['Date/Time'], format= '%m/%d/%Y %H:%M:%S')\n",
        "uber_data['DayofWeekNum'] = uber_data['Date/Time'].dt.dayofweek\n",
        "uber_data['DayofWeek'] = uber_data['Date/Time'].dt.day_name()\n",
        "uber_data['DayNum'] = uber_data['Date/Time'].dt.day\n",
        "uber_data['HourOfDay'] = uber_data['Date/Time'].dt.hour"
      ]
    },
    {
      "cell_type": "code",
      "execution_count": null,
      "metadata": {
        "ExecuteTime": {
          "end_time": "2022-04-25T07:53:58.176474Z",
          "start_time": "2022-04-25T07:53:58.151541Z"
        },
        "id": "XW1J0nT1w1fR",
        "outputId": "42d64dc0-1ba6-40f1-89c0-1047039f93ee"
      },
      "outputs": [
        {
          "data": {
            "text/html": [
              "<div>\n",
              "<style scoped>\n",
              "    .dataframe tbody tr th:only-of-type {\n",
              "        vertical-align: middle;\n",
              "    }\n",
              "\n",
              "    .dataframe tbody tr th {\n",
              "        vertical-align: top;\n",
              "    }\n",
              "\n",
              "    .dataframe thead th {\n",
              "        text-align: right;\n",
              "    }\n",
              "</style>\n",
              "<table border=\"1\" class=\"dataframe\">\n",
              "  <thead>\n",
              "    <tr style=\"text-align: right;\">\n",
              "      <th></th>\n",
              "      <th>Date/Time</th>\n",
              "      <th>Lat</th>\n",
              "      <th>Lon</th>\n",
              "      <th>Base</th>\n",
              "      <th>DayofWeekNum</th>\n",
              "      <th>DayofWeek</th>\n",
              "      <th>DayNum</th>\n",
              "      <th>HourOfDay</th>\n",
              "    </tr>\n",
              "  </thead>\n",
              "  <tbody>\n",
              "    <tr>\n",
              "      <th>0</th>\n",
              "      <td>2014-07-01 00:03:00</td>\n",
              "      <td>40.7586</td>\n",
              "      <td>-73.9706</td>\n",
              "      <td>B02512</td>\n",
              "      <td>1</td>\n",
              "      <td>Tuesday</td>\n",
              "      <td>1</td>\n",
              "      <td>0</td>\n",
              "    </tr>\n",
              "    <tr>\n",
              "      <th>1</th>\n",
              "      <td>2014-07-01 00:05:00</td>\n",
              "      <td>40.7605</td>\n",
              "      <td>-73.9994</td>\n",
              "      <td>B02512</td>\n",
              "      <td>1</td>\n",
              "      <td>Tuesday</td>\n",
              "      <td>1</td>\n",
              "      <td>0</td>\n",
              "    </tr>\n",
              "    <tr>\n",
              "      <th>2</th>\n",
              "      <td>2014-07-01 00:06:00</td>\n",
              "      <td>40.7320</td>\n",
              "      <td>-73.9999</td>\n",
              "      <td>B02512</td>\n",
              "      <td>1</td>\n",
              "      <td>Tuesday</td>\n",
              "      <td>1</td>\n",
              "      <td>0</td>\n",
              "    </tr>\n",
              "    <tr>\n",
              "      <th>3</th>\n",
              "      <td>2014-07-01 00:09:00</td>\n",
              "      <td>40.7635</td>\n",
              "      <td>-73.9793</td>\n",
              "      <td>B02512</td>\n",
              "      <td>1</td>\n",
              "      <td>Tuesday</td>\n",
              "      <td>1</td>\n",
              "      <td>0</td>\n",
              "    </tr>\n",
              "    <tr>\n",
              "      <th>4</th>\n",
              "      <td>2014-07-01 00:20:00</td>\n",
              "      <td>40.7204</td>\n",
              "      <td>-74.0047</td>\n",
              "      <td>B02512</td>\n",
              "      <td>1</td>\n",
              "      <td>Tuesday</td>\n",
              "      <td>1</td>\n",
              "      <td>0</td>\n",
              "    </tr>\n",
              "  </tbody>\n",
              "</table>\n",
              "</div>"
            ],
            "text/plain": [
              "            Date/Time      Lat      Lon    Base  DayofWeekNum DayofWeek  \\\n",
              "0 2014-07-01 00:03:00  40.7586 -73.9706  B02512             1   Tuesday   \n",
              "1 2014-07-01 00:05:00  40.7605 -73.9994  B02512             1   Tuesday   \n",
              "2 2014-07-01 00:06:00  40.7320 -73.9999  B02512             1   Tuesday   \n",
              "3 2014-07-01 00:09:00  40.7635 -73.9793  B02512             1   Tuesday   \n",
              "4 2014-07-01 00:20:00  40.7204 -74.0047  B02512             1   Tuesday   \n",
              "\n",
              "   DayNum  HourOfDay  \n",
              "0       1          0  \n",
              "1       1          0  \n",
              "2       1          0  \n",
              "3       1          0  \n",
              "4       1          0  "
            ]
          },
          "execution_count": 72,
          "metadata": {},
          "output_type": "execute_result"
        }
      ],
      "source": [
        "uber_data.head()"
      ]
    },
    {
      "cell_type": "code",
      "execution_count": null,
      "metadata": {
        "ExecuteTime": {
          "end_time": "2022-04-25T07:53:58.801412Z",
          "start_time": "2022-04-25T07:53:58.786417Z"
        },
        "id": "KX98U-Bkw1fT",
        "outputId": "39ca8463-e6b7-4a49-bf92-2701b1ee4a4b"
      },
      "outputs": [
        {
          "data": {
            "text/plain": [
              "(796121, 8)"
            ]
          },
          "execution_count": 73,
          "metadata": {},
          "output_type": "execute_result"
        }
      ],
      "source": [
        "uber_data.shape"
      ]
    },
    {
      "cell_type": "code",
      "execution_count": null,
      "metadata": {
        "ExecuteTime": {
          "end_time": "2022-04-25T07:53:59.328868Z",
          "start_time": "2022-04-25T07:53:59.274857Z"
        },
        "id": "64f6FxmFw1fV",
        "outputId": "6277e5df-a142-4c07-ba7e-2c4416d0a385"
      },
      "outputs": [
        {
          "data": {
            "text/plain": [
              "array(['B02512', 'B02598', 'B02617', 'B02682', 'B02764'], dtype=object)"
            ]
          },
          "execution_count": 74,
          "metadata": {},
          "output_type": "execute_result"
        }
      ],
      "source": [
        "# Unique base codes\n",
        "\n",
        "uber_data.Base.unique()"
      ]
    },
    {
      "cell_type": "code",
      "execution_count": null,
      "metadata": {
        "ExecuteTime": {
          "end_time": "2022-04-25T07:54:03.557964Z",
          "start_time": "2022-04-25T07:53:59.959553Z"
        },
        "id": "AT7t3aeww1fX",
        "outputId": "0f309619-885c-41ae-b065-8a43c416c605"
      },
      "outputs": [
        {
          "data": {
            "text/plain": [
              "<seaborn.axisgrid.FacetGrid at 0x1d7e63fcfd0>"
            ]
          },
          "execution_count": 75,
          "metadata": {},
          "output_type": "execute_result"
        },
        {
          "data": {
            "image/png": "[encoded data removed]",
            "text/plain": [
              "<Figure size 360x360 with 1 Axes>"
            ]
          },
          "metadata": {
            "needs_background": "light"
          },
          "output_type": "display_data"
        }
      ],
      "source": [
        "# Total rides based on the base\n",
        "\n",
        "sns.catplot(x='Base', data=uber_data, kind='count')"
      ]
    },
    {
      "cell_type": "code",
      "execution_count": null,
      "metadata": {
        "ExecuteTime": {
          "end_time": "2022-04-25T07:54:03.775542Z",
          "start_time": "2022-04-25T07:54:03.621922Z"
        },
        "id": "pBBe3HZzw1fZ",
        "outputId": "c754984c-cb0e-49cd-d4fd-3cf1d70d624f"
      },
      "outputs": [
        {
          "data": {
            "text/html": [
              "<div>\n",
              "<style scoped>\n",
              "    .dataframe tbody tr th:only-of-type {\n",
              "        vertical-align: middle;\n",
              "    }\n",
              "\n",
              "    .dataframe tbody tr th {\n",
              "        vertical-align: top;\n",
              "    }\n",
              "\n",
              "    .dataframe thead th {\n",
              "        text-align: right;\n",
              "    }\n",
              "</style>\n",
              "<table border=\"1\" class=\"dataframe\">\n",
              "  <thead>\n",
              "    <tr style=\"text-align: right;\">\n",
              "      <th></th>\n",
              "      <th></th>\n",
              "      <th>Base</th>\n",
              "    </tr>\n",
              "    <tr>\n",
              "      <th>DayofWeekNum</th>\n",
              "      <th>DayofWeek</th>\n",
              "      <th></th>\n",
              "    </tr>\n",
              "  </thead>\n",
              "  <tbody>\n",
              "    <tr>\n",
              "      <th>0</th>\n",
              "      <th>Monday</th>\n",
              "      <td>93189</td>\n",
              "    </tr>\n",
              "    <tr>\n",
              "      <th>1</th>\n",
              "      <th>Tuesday</th>\n",
              "      <td>137454</td>\n",
              "    </tr>\n",
              "    <tr>\n",
              "      <th>2</th>\n",
              "      <th>Wednesday</th>\n",
              "      <td>147717</td>\n",
              "    </tr>\n",
              "    <tr>\n",
              "      <th>3</th>\n",
              "      <th>Thursday</th>\n",
              "      <td>148439</td>\n",
              "    </tr>\n",
              "    <tr>\n",
              "      <th>4</th>\n",
              "      <th>Friday</th>\n",
              "      <td>102735</td>\n",
              "    </tr>\n",
              "    <tr>\n",
              "      <th>5</th>\n",
              "      <th>Saturday</th>\n",
              "      <td>90260</td>\n",
              "    </tr>\n",
              "    <tr>\n",
              "      <th>6</th>\n",
              "      <th>Sunday</th>\n",
              "      <td>76327</td>\n",
              "    </tr>\n",
              "  </tbody>\n",
              "</table>\n",
              "</div>"
            ],
            "text/plain": [
              "                          Base\n",
              "DayofWeekNum DayofWeek        \n",
              "0            Monday      93189\n",
              "1            Tuesday    137454\n",
              "2            Wednesday  147717\n",
              "3            Thursday   148439\n",
              "4            Friday     102735\n",
              "5            Saturday    90260\n",
              "6            Sunday      76327"
            ]
          },
          "execution_count": 76,
          "metadata": {},
          "output_type": "execute_result"
        }
      ],
      "source": [
        "uber_week_data = uber_data.pivot_table(index=['DayofWeekNum', 'DayofWeek'], values = 'Base', aggfunc='count')\n",
        "uber_week_data"
      ]
    },
    {
      "cell_type": "code",
      "execution_count": null,
      "metadata": {
        "ExecuteTime": {
          "end_time": "2022-04-25T07:54:04.007550Z",
          "start_time": "2022-04-25T07:54:03.838527Z"
        },
        "id": "zrLgVGZqw1fb",
        "outputId": "078b22c4-dc12-4c30-aa24-3b3535919a9a"
      },
      "outputs": [
        {
          "data": {
            "text/plain": [
              "<AxesSubplot:xlabel='DayofWeekNum,DayofWeek'>"
            ]
          },
          "execution_count": 77,
          "metadata": {},
          "output_type": "execute_result"
        },
        {
          "data": {
            "image/png": "[encoded data removed]",
            "text/plain": [
              "<Figure size 720x432 with 1 Axes>"
            ]
          },
          "metadata": {
            "needs_background": "light"
          },
          "output_type": "display_data"
        }
      ],
      "source": [
        "# Visualizing the pivot table\n",
        "\n",
        "uber_week_data.plot(kind='bar', figsize=(10,6))"
      ]
    },
    {
      "cell_type": "code",
      "execution_count": null,
      "metadata": {
        "ExecuteTime": {
          "end_time": "2022-04-25T07:54:09.807889Z",
          "start_time": "2022-04-25T07:54:09.618217Z"
        },
        "id": "b1YYEFFfw1fi",
        "outputId": "81ff837c-ae30-4e73-a0b1-78a20f706c35"
      },
      "outputs": [
        {
          "data": {
            "text/plain": [
              "<AxesSubplot:title={'center':'Hourly Journeys'}, xlabel='HourOfDay'>"
            ]
          },
          "execution_count": 78,
          "metadata": {},
          "output_type": "execute_result"
        },
        {
          "data": {
            "image/png": "[encoded data removed]",
            "text/plain": [
              "<Figure size 720x432 with 1 Axes>"
            ]
          },
          "metadata": {
            "needs_background": "light"
          },
          "output_type": "display_data"
        }
      ],
      "source": [
        "uber_hourly_data = uber_data.pivot_table(index=['HourOfDay'], values = 'Base', aggfunc='count')\n",
        "uber_hourly_data.plot(kind='line', figsize=(10,6), title=\"Hourly Journeys\")"
      ]
    },
    {
      "cell_type": "code",
      "execution_count": null,
      "metadata": {
        "ExecuteTime": {
          "end_time": "2022-04-25T07:54:10.886148Z",
          "start_time": "2022-04-25T07:54:10.548708Z"
        },
        "id": "NlIH8pVAw1fk",
        "outputId": "2c4e4d17-1dd2-43af-cb08-9537057d48b8"
      },
      "outputs": [
        {
          "data": {
            "text/plain": [
              "<AxesSubplot:title={'center':'Journeys by DayNum'}, xlabel='DayNum'>"
            ]
          },
          "execution_count": 79,
          "metadata": {},
          "output_type": "execute_result"
        },
        {
          "data": {
            "image/png": "[encoded data removed]",
            "text/plain": [
              "<Figure size 720x432 with 1 Axes>"
            ]
          },
          "metadata": {
            "needs_background": "light"
          },
          "output_type": "display_data"
        }
      ],
      "source": [
        "uber_hourly_data = uber_data.pivot_table(index=['DayNum'], values = 'Base', aggfunc='count')\n",
        "uber_hourly_data.plot(kind='bar', figsize=(10,6), title=\"Journeys by DayNum\")"
      ]
    },
    {
      "cell_type": "code",
      "execution_count": null,
      "metadata": {
        "ExecuteTime": {
          "end_time": "2022-04-25T08:00:09.838392Z",
          "start_time": "2022-04-25T08:00:09.744348Z"
        },
        "id": "g0saNmyUw1fm",
        "outputId": "c5e02703-d593-4dbd-b33c-af9dcffd1b6a"
      },
      "outputs": [
        {
          "data": {
            "text/plain": [
              "DayNum\n",
              "1     21228\n",
              "2     26480\n",
              "3     21597\n",
              "4     14148\n",
              "5     10890\n",
              "6     11443\n",
              "7     18280\n",
              "8     25763\n",
              "9     27817\n",
              "10    30541\n",
              "11    28752\n",
              "12    25936\n",
              "13    21082\n",
              "14    27350\n",
              "15    33845\n",
              "16    28607\n",
              "17    30710\n",
              "18    29860\n",
              "19    25726\n",
              "20    21212\n",
              "21    23578\n",
              "22    29029\n",
              "23    34073\n",
              "24    32050\n",
              "25    29975\n",
              "26    27708\n",
              "27    22590\n",
              "28    23981\n",
              "29    27589\n",
              "30    30740\n",
              "31    33541\n",
              "dtype: int64"
            ]
          },
          "execution_count": 82,
          "metadata": {},
          "output_type": "execute_result"
        }
      ],
      "source": [
        "def count_rows(rows):\n",
        "    return len(rows)\n",
        "\n",
        "by_date = uber_data.groupby('DayNum').apply(count_rows)\n",
        "by_date"
      ]
    },
    {
      "cell_type": "code",
      "execution_count": null,
      "metadata": {
        "ExecuteTime": {
          "end_time": "2022-04-25T12:13:11.935730Z",
          "start_time": "2022-04-25T12:13:11.469383Z"
        },
        "id": "iZ2W7tcvw1fn",
        "outputId": "735484e0-f6d7-4d1a-d68d-2e003f0455d0"
      },
      "outputs": [
        {
          "data": {
            "text/plain": [
              "(array([11527.,  8562.,  9199., 10040., 14932., 23456., 32545., 33387.,\n",
              "        28486., 28558., 30120., 30900., 35832., 41357., 46053., 52403.,\n",
              "        58260., 57268., 52332., 51859., 49528., 42218., 29346.,     0.]),\n",
              " array([ 0.5       ,  1.47916667,  2.45833333,  3.4375    ,  4.41666667,\n",
              "         5.39583333,  6.375     ,  7.35416667,  8.33333333,  9.3125    ,\n",
              "        10.29166667, 11.27083333, 12.25      , 13.22916667, 14.20833333,\n",
              "        15.1875    , 16.16666667, 17.14583333, 18.125     , 19.10416667,\n",
              "        20.08333333, 21.0625    , 22.04166667, 23.02083333, 24.        ]),\n",
              " <BarContainer object of 24 artists>)"
            ]
          },
          "execution_count": 95,
          "metadata": {},
          "output_type": "execute_result"
        },
        {
          "data": {
            "image/png": "[encoded data removed]",
            "text/plain": [
              "<Figure size 432x288 with 1 Axes>"
            ]
          },
          "metadata": {
            "needs_background": "light"
          },
          "output_type": "display_data"
        }
      ],
      "source": [
        "# Analyze the hours\n",
        "\n",
        "plt.hist(uber_data.HourOfDay, bins=24, range=(.5, 24))"
      ]
    },
    {
      "cell_type": "code",
      "execution_count": null,
      "metadata": {
        "ExecuteTime": {
          "end_time": "2022-04-25T12:13:42.134224Z",
          "start_time": "2022-04-25T12:13:42.128713Z"
        },
        "id": "xu7sCpJnw1fo",
        "outputId": "ef575cd9-e467-4bb8-d925-8dab108c55b3"
      },
      "outputs": [
        {
          "data": {
            "text/plain": [
              "Index(['Date/Time', 'Lat', 'Lon', 'Base', 'DayofWeekNum', 'DayofWeek',\n",
              "       'DayNum', 'HourOfDay'],\n",
              "      dtype='object')"
            ]
          },
          "execution_count": 97,
          "metadata": {},
          "output_type": "execute_result"
        }
      ],
      "source": [
        "uber_data.columns"
      ]
    },
    {
      "cell_type": "code",
      "execution_count": null,
      "metadata": {
        "ExecuteTime": {
          "end_time": "2022-04-25T12:17:43.685457Z",
          "start_time": "2022-04-25T12:17:43.403874Z"
        },
        "id": "Ye2vyEJ4w1fq",
        "outputId": "466a6b63-206d-4f9d-c417-7deeaa1a882f"
      },
      "outputs": [
        {
          "data": {
            "text/html": [
              "<div>\n",
              "<style scoped>\n",
              "    .dataframe tbody tr th:only-of-type {\n",
              "        vertical-align: middle;\n",
              "    }\n",
              "\n",
              "    .dataframe tbody tr th {\n",
              "        vertical-align: top;\n",
              "    }\n",
              "\n",
              "    .dataframe thead th {\n",
              "        text-align: right;\n",
              "    }\n",
              "</style>\n",
              "<table border=\"1\" class=\"dataframe\">\n",
              "  <thead>\n",
              "    <tr style=\"text-align: right;\">\n",
              "      <th>DayofWeekNum</th>\n",
              "      <th>0</th>\n",
              "      <th>1</th>\n",
              "      <th>2</th>\n",
              "      <th>3</th>\n",
              "      <th>4</th>\n",
              "      <th>5</th>\n",
              "      <th>6</th>\n",
              "    </tr>\n",
              "    <tr>\n",
              "      <th>HourOfDay</th>\n",
              "      <th></th>\n",
              "      <th></th>\n",
              "      <th></th>\n",
              "      <th></th>\n",
              "      <th></th>\n",
              "      <th></th>\n",
              "      <th></th>\n",
              "    </tr>\n",
              "  </thead>\n",
              "  <tbody>\n",
              "    <tr>\n",
              "      <th>0</th>\n",
              "      <td>1260</td>\n",
              "      <td>1509</td>\n",
              "      <td>1773</td>\n",
              "      <td>2150</td>\n",
              "      <td>2460</td>\n",
              "      <td>4441</td>\n",
              "      <td>4360</td>\n",
              "    </tr>\n",
              "    <tr>\n",
              "      <th>1</th>\n",
              "      <td>613</td>\n",
              "      <td>779</td>\n",
              "      <td>966</td>\n",
              "      <td>1157</td>\n",
              "      <td>1541</td>\n",
              "      <td>3153</td>\n",
              "      <td>3318</td>\n",
              "    </tr>\n",
              "    <tr>\n",
              "      <th>2</th>\n",
              "      <td>439</td>\n",
              "      <td>556</td>\n",
              "      <td>780</td>\n",
              "      <td>855</td>\n",
              "      <td>1059</td>\n",
              "      <td>2320</td>\n",
              "      <td>2553</td>\n",
              "    </tr>\n",
              "    <tr>\n",
              "      <th>3</th>\n",
              "      <td>1019</td>\n",
              "      <td>935</td>\n",
              "      <td>1120</td>\n",
              "      <td>1283</td>\n",
              "      <td>1230</td>\n",
              "      <td>1704</td>\n",
              "      <td>1908</td>\n",
              "    </tr>\n",
              "    <tr>\n",
              "      <th>4</th>\n",
              "      <td>1615</td>\n",
              "      <td>1483</td>\n",
              "      <td>1630</td>\n",
              "      <td>1884</td>\n",
              "      <td>1359</td>\n",
              "      <td>1087</td>\n",
              "      <td>982</td>\n",
              "    </tr>\n",
              "    <tr>\n",
              "      <th>5</th>\n",
              "      <td>2461</td>\n",
              "      <td>2730</td>\n",
              "      <td>2799</td>\n",
              "      <td>2931</td>\n",
              "      <td>1989</td>\n",
              "      <td>1097</td>\n",
              "      <td>925</td>\n",
              "    </tr>\n",
              "    <tr>\n",
              "      <th>6</th>\n",
              "      <td>3644</td>\n",
              "      <td>4811</td>\n",
              "      <td>5017</td>\n",
              "      <td>4796</td>\n",
              "      <td>2947</td>\n",
              "      <td>1214</td>\n",
              "      <td>1027</td>\n",
              "    </tr>\n",
              "    <tr>\n",
              "      <th>7</th>\n",
              "      <td>5066</td>\n",
              "      <td>6750</td>\n",
              "      <td>7129</td>\n",
              "      <td>6709</td>\n",
              "      <td>4032</td>\n",
              "      <td>1594</td>\n",
              "      <td>1265</td>\n",
              "    </tr>\n",
              "    <tr>\n",
              "      <th>8</th>\n",
              "      <td>4797</td>\n",
              "      <td>6662</td>\n",
              "      <td>7125</td>\n",
              "      <td>6683</td>\n",
              "      <td>4152</td>\n",
              "      <td>2101</td>\n",
              "      <td>1867</td>\n",
              "    </tr>\n",
              "    <tr>\n",
              "      <th>9</th>\n",
              "      <td>3692</td>\n",
              "      <td>5061</td>\n",
              "      <td>5419</td>\n",
              "      <td>5385</td>\n",
              "      <td>3631</td>\n",
              "      <td>2668</td>\n",
              "      <td>2630</td>\n",
              "    </tr>\n",
              "    <tr>\n",
              "      <th>10</th>\n",
              "      <td>3423</td>\n",
              "      <td>4887</td>\n",
              "      <td>5176</td>\n",
              "      <td>5071</td>\n",
              "      <td>3503</td>\n",
              "      <td>3293</td>\n",
              "      <td>3205</td>\n",
              "    </tr>\n",
              "    <tr>\n",
              "      <th>11</th>\n",
              "      <td>3492</td>\n",
              "      <td>4939</td>\n",
              "      <td>5265</td>\n",
              "      <td>5370</td>\n",
              "      <td>3674</td>\n",
              "      <td>3545</td>\n",
              "      <td>3835</td>\n",
              "    </tr>\n",
              "    <tr>\n",
              "      <th>12</th>\n",
              "      <td>3512</td>\n",
              "      <td>5154</td>\n",
              "      <td>5425</td>\n",
              "      <td>5510</td>\n",
              "      <td>3792</td>\n",
              "      <td>3697</td>\n",
              "      <td>3810</td>\n",
              "    </tr>\n",
              "    <tr>\n",
              "      <th>13</th>\n",
              "      <td>3918</td>\n",
              "      <td>6583</td>\n",
              "      <td>6110</td>\n",
              "      <td>6275</td>\n",
              "      <td>4619</td>\n",
              "      <td>3826</td>\n",
              "      <td>4501</td>\n",
              "    </tr>\n",
              "    <tr>\n",
              "      <th>14</th>\n",
              "      <td>4604</td>\n",
              "      <td>7551</td>\n",
              "      <td>7229</td>\n",
              "      <td>7443</td>\n",
              "      <td>5457</td>\n",
              "      <td>4491</td>\n",
              "      <td>4582</td>\n",
              "    </tr>\n",
              "    <tr>\n",
              "      <th>15</th>\n",
              "      <td>5057</td>\n",
              "      <td>7951</td>\n",
              "      <td>8719</td>\n",
              "      <td>8654</td>\n",
              "      <td>6031</td>\n",
              "      <td>5079</td>\n",
              "      <td>4562</td>\n",
              "    </tr>\n",
              "    <tr>\n",
              "      <th>16</th>\n",
              "      <td>6283</td>\n",
              "      <td>9219</td>\n",
              "      <td>10421</td>\n",
              "      <td>9691</td>\n",
              "      <td>6440</td>\n",
              "      <td>5482</td>\n",
              "      <td>4867</td>\n",
              "    </tr>\n",
              "    <tr>\n",
              "      <th>17</th>\n",
              "      <td>7328</td>\n",
              "      <td>11712</td>\n",
              "      <td>11669</td>\n",
              "      <td>10485</td>\n",
              "      <td>6657</td>\n",
              "      <td>5483</td>\n",
              "      <td>4926</td>\n",
              "    </tr>\n",
              "    <tr>\n",
              "      <th>18</th>\n",
              "      <td>6551</td>\n",
              "      <td>10992</td>\n",
              "      <td>11739</td>\n",
              "      <td>11203</td>\n",
              "      <td>6682</td>\n",
              "      <td>5838</td>\n",
              "      <td>4263</td>\n",
              "    </tr>\n",
              "    <tr>\n",
              "      <th>19</th>\n",
              "      <td>6378</td>\n",
              "      <td>9983</td>\n",
              "      <td>10563</td>\n",
              "      <td>10848</td>\n",
              "      <td>5947</td>\n",
              "      <td>4913</td>\n",
              "      <td>3700</td>\n",
              "    </tr>\n",
              "    <tr>\n",
              "      <th>20</th>\n",
              "      <td>6303</td>\n",
              "      <td>9781</td>\n",
              "      <td>10491</td>\n",
              "      <td>10177</td>\n",
              "      <td>5699</td>\n",
              "      <td>5396</td>\n",
              "      <td>4012</td>\n",
              "    </tr>\n",
              "    <tr>\n",
              "      <th>21</th>\n",
              "      <td>5640</td>\n",
              "      <td>8297</td>\n",
              "      <td>9751</td>\n",
              "      <td>9545</td>\n",
              "      <td>6654</td>\n",
              "      <td>5901</td>\n",
              "      <td>3740</td>\n",
              "    </tr>\n",
              "    <tr>\n",
              "      <th>22</th>\n",
              "      <td>3828</td>\n",
              "      <td>5806</td>\n",
              "      <td>7275</td>\n",
              "      <td>8578</td>\n",
              "      <td>7103</td>\n",
              "      <td>6337</td>\n",
              "      <td>3291</td>\n",
              "    </tr>\n",
              "    <tr>\n",
              "      <th>23</th>\n",
              "      <td>2266</td>\n",
              "      <td>3323</td>\n",
              "      <td>4126</td>\n",
              "      <td>5756</td>\n",
              "      <td>6077</td>\n",
              "      <td>5600</td>\n",
              "      <td>2198</td>\n",
              "    </tr>\n",
              "  </tbody>\n",
              "</table>\n",
              "</div>"
            ],
            "text/plain": [
              "DayofWeekNum     0      1      2      3     4     5     6\n",
              "HourOfDay                                                \n",
              "0             1260   1509   1773   2150  2460  4441  4360\n",
              "1              613    779    966   1157  1541  3153  3318\n",
              "2              439    556    780    855  1059  2320  2553\n",
              "3             1019    935   1120   1283  1230  1704  1908\n",
              "4             1615   1483   1630   1884  1359  1087   982\n",
              "5             2461   2730   2799   2931  1989  1097   925\n",
              "6             3644   4811   5017   4796  2947  1214  1027\n",
              "7             5066   6750   7129   6709  4032  1594  1265\n",
              "8             4797   6662   7125   6683  4152  2101  1867\n",
              "9             3692   5061   5419   5385  3631  2668  2630\n",
              "10            3423   4887   5176   5071  3503  3293  3205\n",
              "11            3492   4939   5265   5370  3674  3545  3835\n",
              "12            3512   5154   5425   5510  3792  3697  3810\n",
              "13            3918   6583   6110   6275  4619  3826  4501\n",
              "14            4604   7551   7229   7443  5457  4491  4582\n",
              "15            5057   7951   8719   8654  6031  5079  4562\n",
              "16            6283   9219  10421   9691  6440  5482  4867\n",
              "17            7328  11712  11669  10485  6657  5483  4926\n",
              "18            6551  10992  11739  11203  6682  5838  4263\n",
              "19            6378   9983  10563  10848  5947  4913  3700\n",
              "20            6303   9781  10491  10177  5699  5396  4012\n",
              "21            5640   8297   9751   9545  6654  5901  3740\n",
              "22            3828   5806   7275   8578  7103  6337  3291\n",
              "23            2266   3323   4126   5756  6077  5600  2198"
            ]
          },
          "execution_count": 104,
          "metadata": {},
          "output_type": "execute_result"
        }
      ],
      "source": [
        "by_hour_weekday = uber_data.groupby('HourOfDay DayofWeekNum'.split()).apply(count_rows).unstack()\n",
        "by_hour_weekday"
      ]
    },
    {
      "cell_type": "code",
      "execution_count": null,
      "metadata": {
        "ExecuteTime": {
          "end_time": "2022-04-25T12:40:34.888172Z",
          "start_time": "2022-04-25T12:40:33.674351Z"
        },
        "id": "kz_VcfTXw1fr",
        "outputId": "1c286cd3-ff9b-4ebc-8484-a607a66f31f3"
      },
      "outputs": [
        {
          "data": {
            "text/plain": [
              "<AxesSubplot:xlabel='DayofWeekNum', ylabel='HourOfDay'>"
            ]
          },
          "execution_count": 105,
          "metadata": {},
          "output_type": "execute_result"
        },
        {
          "data": {
            "image/png": "[encoded data removed]",
            "text/plain": [
              "<Figure size 1080x720 with 2 Axes>"
            ]
          },
          "metadata": {
            "needs_background": "light"
          },
          "output_type": "display_data"
        }
      ],
      "source": [
        "# Heat map the brightest spot shows the day/hour with the highest frequency\n",
        "\n",
        "plt.figure(figsize=(15, 10))\n",
        "sns.heatmap(by_hour_weekday)"
      ]
    },
    {
      "cell_type": "code",
      "execution_count": null,
      "metadata": {
        "id": "fBSVUSRcw1fs"
      },
      "outputs": [],
      "source": [
        ""
      ]
    }
  ],
  "metadata": {
    "gist": {
      "data": {
        "description": "Desktop/Data_Analysis_Projects/Data_Analysis/Uber Data Analysis.ipynb",
        "public": false
      },
      "id": ""
    },
    "hide_input": false,
    "kernelspec": {
      "display_name": "Python 3",
      "language": "python",
      "name": "python3"
    },
    "language_info": {
      "codemirror_mode": {
        "name": "ipython",
        "version": 3
      },
      "file_extension": ".py",
      "mimetype": "text/x-python",
      "name": "python",
      "nbconvert_exporter": "python",
      "pygments_lexer": "ipython3",
      "version": "3.8.5"
    },
    "toc": {
      "base_numbering": 1,
      "nav_menu": {},
      "number_sections": true,
      "sideBar": true,
      "skip_h1_title": false,
      "title_cell": "Table of Contents",
      "title_sidebar": "Contents",
      "toc_cell": false,
      "toc_position": {},
      "toc_section_display": true,
      "toc_window_display": false
    },
    "varInspector": {
      "cols": {
        "lenName": 16,
        "lenType": 16,
        "lenVar": 40
      },
      "kernels_config": {
        "python": {
          "delete_cmd_postfix": "",
          "delete_cmd_prefix": "del ",
          "library": "var_list.py",
          "varRefreshCmd": "print(var_dic_list())"
        },
        "r": {
          "delete_cmd_postfix": ") ",
          "delete_cmd_prefix": "rm(",
          "library": "var_list.r",
          "varRefreshCmd": "cat(var_dic_list()) "
        }
      },
      "types_to_exclude": [
        "module",
        "function",
        "builtin_function_or_method",
        "instance",
        "_Feature"
      ],
      "window_display": false
    },
    "colab": {
      "name": "Uber Data Analysis.ipynb",
      "provenance": [],
      "include_colab_link": true
    }
  },
  "nbformat": 4,
  "nbformat_minor": 0
}