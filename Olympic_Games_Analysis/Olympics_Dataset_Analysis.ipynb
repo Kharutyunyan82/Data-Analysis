{
  "cells": [
    {
      "cell_type": "markdown",
      "metadata": {
        "id": "view-in-github",
        "colab_type": "text"
      },
      "source": [
        "<a href=\"https://colab.research.google.com/github/Mefistofel82/Data-Analysis/blob/main/Olympic_Games_Analysis/Olympics_Dataset_Analysis.ipynb\" target=\"_parent\"><img src=\"https://colab.research.google.com/assets/colab-badge.svg\" alt=\"Open In Colab\"/></a>"
      ]
    },
    {
      "cell_type": "code",
      "execution_count": null,
      "metadata": {
        "ExecuteTime": {
          "end_time": "2022-04-25T13:54:55.610033Z",
          "start_time": "2022-04-25T13:54:43.836662Z"
        },
        "id": "rwoQd9QI4wFZ"
      },
      "outputs": [],
      "source": [
        "import numpy as np\n",
        "import pandas as pd\n",
        "import matplotlib.pyplot as plt\n",
        "import seaborn as sns\n",
        "%matplotlib inline"
      ]
    },
    {
      "cell_type": "code",
      "execution_count": null,
      "metadata": {
        "ExecuteTime": {
          "end_time": "2022-04-25T14:01:27.206033Z",
          "start_time": "2022-04-25T14:01:26.766705Z"
        },
        "id": "BNCfesOw4wFm"
      },
      "outputs": [],
      "source": [
        "athletes_data = pd.read_csv(r'Olympics_games_data\\athlete_events.csv')\n",
        "regions_data =  pd.read_csv(r'Olympics_games_data\\noc_regions.csv')"
      ]
    },
    {
      "cell_type": "code",
      "execution_count": null,
      "metadata": {
        "ExecuteTime": {
          "end_time": "2022-04-25T14:01:46.478380Z",
          "start_time": "2022-04-25T14:01:46.443406Z"
        },
        "id": "VYXKd2Q04wFo",
        "outputId": "b30abb5e-f8fa-48ba-fb90-8a4f8e391958"
      },
      "outputs": [
        {
          "data": {
            "text/html": [
              "<div>\n",
              "<style scoped>\n",
              "    .dataframe tbody tr th:only-of-type {\n",
              "        vertical-align: middle;\n",
              "    }\n",
              "\n",
              "    .dataframe tbody tr th {\n",
              "        vertical-align: top;\n",
              "    }\n",
              "\n",
              "    .dataframe thead th {\n",
              "        text-align: right;\n",
              "    }\n",
              "</style>\n",
              "<table border=\"1\" class=\"dataframe\">\n",
              "  <thead>\n",
              "    <tr style=\"text-align: right;\">\n",
              "      <th></th>\n",
              "      <th>ID</th>\n",
              "      <th>Name</th>\n",
              "      <th>Sex</th>\n",
              "      <th>Age</th>\n",
              "      <th>Height</th>\n",
              "      <th>Weight</th>\n",
              "      <th>Team</th>\n",
              "      <th>NOC</th>\n",
              "      <th>Games</th>\n",
              "      <th>Year</th>\n",
              "      <th>Season</th>\n",
              "      <th>City</th>\n",
              "      <th>Sport</th>\n",
              "      <th>Event</th>\n",
              "      <th>Medal</th>\n",
              "    </tr>\n",
              "  </thead>\n",
              "  <tbody>\n",
              "    <tr>\n",
              "      <th>0</th>\n",
              "      <td>1</td>\n",
              "      <td>A Dijiang</td>\n",
              "      <td>M</td>\n",
              "      <td>24.0</td>\n",
              "      <td>180.0</td>\n",
              "      <td>80.0</td>\n",
              "      <td>China</td>\n",
              "      <td>CHN</td>\n",
              "      <td>1992 Summer</td>\n",
              "      <td>1992</td>\n",
              "      <td>Summer</td>\n",
              "      <td>Barcelona</td>\n",
              "      <td>Basketball</td>\n",
              "      <td>Basketball Men's Basketball</td>\n",
              "      <td>NaN</td>\n",
              "    </tr>\n",
              "    <tr>\n",
              "      <th>1</th>\n",
              "      <td>2</td>\n",
              "      <td>A Lamusi</td>\n",
              "      <td>M</td>\n",
              "      <td>23.0</td>\n",
              "      <td>170.0</td>\n",
              "      <td>60.0</td>\n",
              "      <td>China</td>\n",
              "      <td>CHN</td>\n",
              "      <td>2012 Summer</td>\n",
              "      <td>2012</td>\n",
              "      <td>Summer</td>\n",
              "      <td>London</td>\n",
              "      <td>Judo</td>\n",
              "      <td>Judo Men's Extra-Lightweight</td>\n",
              "      <td>NaN</td>\n",
              "    </tr>\n",
              "    <tr>\n",
              "      <th>2</th>\n",
              "      <td>3</td>\n",
              "      <td>Gunnar Nielsen Aaby</td>\n",
              "      <td>M</td>\n",
              "      <td>24.0</td>\n",
              "      <td>NaN</td>\n",
              "      <td>NaN</td>\n",
              "      <td>Denmark</td>\n",
              "      <td>DEN</td>\n",
              "      <td>1920 Summer</td>\n",
              "      <td>1920</td>\n",
              "      <td>Summer</td>\n",
              "      <td>Antwerpen</td>\n",
              "      <td>Football</td>\n",
              "      <td>Football Men's Football</td>\n",
              "      <td>NaN</td>\n",
              "    </tr>\n",
              "    <tr>\n",
              "      <th>3</th>\n",
              "      <td>4</td>\n",
              "      <td>Edgar Lindenau Aabye</td>\n",
              "      <td>M</td>\n",
              "      <td>34.0</td>\n",
              "      <td>NaN</td>\n",
              "      <td>NaN</td>\n",
              "      <td>Denmark/Sweden</td>\n",
              "      <td>DEN</td>\n",
              "      <td>1900 Summer</td>\n",
              "      <td>1900</td>\n",
              "      <td>Summer</td>\n",
              "      <td>Paris</td>\n",
              "      <td>Tug-Of-War</td>\n",
              "      <td>Tug-Of-War Men's Tug-Of-War</td>\n",
              "      <td>Gold</td>\n",
              "    </tr>\n",
              "    <tr>\n",
              "      <th>4</th>\n",
              "      <td>5</td>\n",
              "      <td>Christine Jacoba Aaftink</td>\n",
              "      <td>F</td>\n",
              "      <td>21.0</td>\n",
              "      <td>185.0</td>\n",
              "      <td>82.0</td>\n",
              "      <td>Netherlands</td>\n",
              "      <td>NED</td>\n",
              "      <td>1988 Winter</td>\n",
              "      <td>1988</td>\n",
              "      <td>Winter</td>\n",
              "      <td>Calgary</td>\n",
              "      <td>Speed Skating</td>\n",
              "      <td>Speed Skating Women's 500 metres</td>\n",
              "      <td>NaN</td>\n",
              "    </tr>\n",
              "  </tbody>\n",
              "</table>\n",
              "</div>"
            ],
            "text/plain": [
              "   ID                      Name Sex   Age  Height  Weight            Team  \\\n",
              "0   1                 A Dijiang   M  24.0   180.0    80.0           China   \n",
              "1   2                  A Lamusi   M  23.0   170.0    60.0           China   \n",
              "2   3       Gunnar Nielsen Aaby   M  24.0     NaN     NaN         Denmark   \n",
              "3   4      Edgar Lindenau Aabye   M  34.0     NaN     NaN  Denmark/Sweden   \n",
              "4   5  Christine Jacoba Aaftink   F  21.0   185.0    82.0     Netherlands   \n",
              "\n",
              "   NOC        Games  Year  Season       City          Sport  \\\n",
              "0  CHN  1992 Summer  1992  Summer  Barcelona     Basketball   \n",
              "1  CHN  2012 Summer  2012  Summer     London           Judo   \n",
              "2  DEN  1920 Summer  1920  Summer  Antwerpen       Football   \n",
              "3  DEN  1900 Summer  1900  Summer      Paris     Tug-Of-War   \n",
              "4  NED  1988 Winter  1988  Winter    Calgary  Speed Skating   \n",
              "\n",
              "                              Event Medal  \n",
              "0       Basketball Men's Basketball   NaN  \n",
              "1      Judo Men's Extra-Lightweight   NaN  \n",
              "2           Football Men's Football   NaN  \n",
              "3       Tug-Of-War Men's Tug-Of-War  Gold  \n",
              "4  Speed Skating Women's 500 metres   NaN  "
            ]
          },
          "execution_count": 9,
          "metadata": {},
          "output_type": "execute_result"
        }
      ],
      "source": [
        "athletes_data.head()"
      ]
    },
    {
      "cell_type": "code",
      "execution_count": null,
      "metadata": {
        "ExecuteTime": {
          "end_time": "2022-04-26T14:30:37.225341Z",
          "start_time": "2022-04-26T14:30:36.124236Z"
        },
        "id": "LZuh_zSg4wFs",
        "outputId": "4eb338a4-e8b3-47ab-8d8f-61c319c8c371"
      },
      "outputs": [
        {
          "name": "stdout",
          "output_type": "stream",
          "text": [
            "<class 'pandas.core.frame.DataFrame'>\n",
            "RangeIndex: 271116 entries, 0 to 271115\n",
            "Data columns (total 15 columns):\n",
            " #   Column  Non-Null Count   Dtype  \n",
            "---  ------  --------------   -----  \n",
            " 0   ID      271116 non-null  int64  \n",
            " 1   Name    271116 non-null  object \n",
            " 2   Sex     271116 non-null  object \n",
            " 3   Age     261642 non-null  float64\n",
            " 4   Height  210945 non-null  float64\n",
            " 5   Weight  208241 non-null  float64\n",
            " 6   Team    271116 non-null  object \n",
            " 7   NOC     271116 non-null  object \n",
            " 8   Games   271116 non-null  object \n",
            " 9   Year    271116 non-null  int64  \n",
            " 10  Season  271116 non-null  object \n",
            " 11  City    271116 non-null  object \n",
            " 12  Sport   271116 non-null  object \n",
            " 13  Event   271116 non-null  object \n",
            " 14  Medal   39783 non-null   object \n",
            "dtypes: float64(3), int64(2), object(10)\n",
            "memory usage: 31.0+ MB\n"
          ]
        }
      ],
      "source": [
        "data.info()"
      ]
    },
    {
      "cell_type": "code",
      "execution_count": null,
      "metadata": {
        "ExecuteTime": {
          "end_time": "2022-04-26T07:43:18.114314Z",
          "start_time": "2022-04-26T07:43:18.037972Z"
        },
        "id": "nFinIyTz4wFv",
        "outputId": "b24bdc6a-b1da-409d-872d-8339367aaf40"
      },
      "outputs": [
        {
          "data": {
            "text/html": [
              "<div>\n",
              "<style scoped>\n",
              "    .dataframe tbody tr th:only-of-type {\n",
              "        vertical-align: middle;\n",
              "    }\n",
              "\n",
              "    .dataframe tbody tr th {\n",
              "        vertical-align: top;\n",
              "    }\n",
              "\n",
              "    .dataframe thead th {\n",
              "        text-align: right;\n",
              "    }\n",
              "</style>\n",
              "<table border=\"1\" class=\"dataframe\">\n",
              "  <thead>\n",
              "    <tr style=\"text-align: right;\">\n",
              "      <th></th>\n",
              "      <th>NOC</th>\n",
              "      <th>region</th>\n",
              "      <th>notes</th>\n",
              "    </tr>\n",
              "  </thead>\n",
              "  <tbody>\n",
              "    <tr>\n",
              "      <th>0</th>\n",
              "      <td>AFG</td>\n",
              "      <td>Afghanistan</td>\n",
              "      <td>NaN</td>\n",
              "    </tr>\n",
              "    <tr>\n",
              "      <th>1</th>\n",
              "      <td>AHO</td>\n",
              "      <td>Curacao</td>\n",
              "      <td>Netherlands Antilles</td>\n",
              "    </tr>\n",
              "    <tr>\n",
              "      <th>2</th>\n",
              "      <td>ALB</td>\n",
              "      <td>Albania</td>\n",
              "      <td>NaN</td>\n",
              "    </tr>\n",
              "    <tr>\n",
              "      <th>3</th>\n",
              "      <td>ALG</td>\n",
              "      <td>Algeria</td>\n",
              "      <td>NaN</td>\n",
              "    </tr>\n",
              "    <tr>\n",
              "      <th>4</th>\n",
              "      <td>AND</td>\n",
              "      <td>Andorra</td>\n",
              "      <td>NaN</td>\n",
              "    </tr>\n",
              "  </tbody>\n",
              "</table>\n",
              "</div>"
            ],
            "text/plain": [
              "   NOC       region                 notes\n",
              "0  AFG  Afghanistan                   NaN\n",
              "1  AHO      Curacao  Netherlands Antilles\n",
              "2  ALB      Albania                   NaN\n",
              "3  ALG      Algeria                   NaN\n",
              "4  AND      Andorra                   NaN"
            ]
          },
          "execution_count": 10,
          "metadata": {},
          "output_type": "execute_result"
        }
      ],
      "source": [
        "regions_data.head()"
      ]
    },
    {
      "cell_type": "code",
      "execution_count": null,
      "metadata": {
        "ExecuteTime": {
          "end_time": "2022-04-26T07:43:33.848985Z",
          "start_time": "2022-04-26T07:43:33.599139Z"
        },
        "id": "aIDHlOdY4wFx",
        "outputId": "9e1c42fb-bc5e-4d55-ea18-9d5bb52c871c"
      },
      "outputs": [
        {
          "name": "stdout",
          "output_type": "stream",
          "text": [
            "<class 'pandas.core.frame.DataFrame'>\n",
            "RangeIndex: 230 entries, 0 to 229\n",
            "Data columns (total 3 columns):\n",
            " #   Column  Non-Null Count  Dtype \n",
            "---  ------  --------------  ----- \n",
            " 0   NOC     230 non-null    object\n",
            " 1   region  227 non-null    object\n",
            " 2   notes   21 non-null     object\n",
            "dtypes: object(3)\n",
            "memory usage: 5.5+ KB\n"
          ]
        }
      ],
      "source": [
        "regions_data.info()"
      ]
    },
    {
      "cell_type": "code",
      "execution_count": null,
      "metadata": {
        "ExecuteTime": {
          "end_time": "2022-04-26T07:50:23.860994Z",
          "start_time": "2022-04-26T07:50:22.708585Z"
        },
        "id": "pfyUA_-I4wF0",
        "outputId": "5740a170-de4f-45a7-8539-5d7e7f999e93"
      },
      "outputs": [
        {
          "data": {
            "text/html": [
              "<div>\n",
              "<style scoped>\n",
              "    .dataframe tbody tr th:only-of-type {\n",
              "        vertical-align: middle;\n",
              "    }\n",
              "\n",
              "    .dataframe tbody tr th {\n",
              "        vertical-align: top;\n",
              "    }\n",
              "\n",
              "    .dataframe thead th {\n",
              "        text-align: right;\n",
              "    }\n",
              "</style>\n",
              "<table border=\"1\" class=\"dataframe\">\n",
              "  <thead>\n",
              "    <tr style=\"text-align: right;\">\n",
              "      <th></th>\n",
              "      <th>ID</th>\n",
              "      <th>Name</th>\n",
              "      <th>Sex</th>\n",
              "      <th>Age</th>\n",
              "      <th>Height</th>\n",
              "      <th>Weight</th>\n",
              "      <th>Team</th>\n",
              "      <th>NOC</th>\n",
              "      <th>Games</th>\n",
              "      <th>Year</th>\n",
              "      <th>Season</th>\n",
              "      <th>City</th>\n",
              "      <th>Sport</th>\n",
              "      <th>Event</th>\n",
              "      <th>Medal</th>\n",
              "      <th>region</th>\n",
              "      <th>notes</th>\n",
              "    </tr>\n",
              "  </thead>\n",
              "  <tbody>\n",
              "    <tr>\n",
              "      <th>0</th>\n",
              "      <td>1</td>\n",
              "      <td>A Dijiang</td>\n",
              "      <td>M</td>\n",
              "      <td>24.0</td>\n",
              "      <td>180.0</td>\n",
              "      <td>80.0</td>\n",
              "      <td>China</td>\n",
              "      <td>CHN</td>\n",
              "      <td>1992 Summer</td>\n",
              "      <td>1992</td>\n",
              "      <td>Summer</td>\n",
              "      <td>Barcelona</td>\n",
              "      <td>Basketball</td>\n",
              "      <td>Basketball Men's Basketball</td>\n",
              "      <td>NaN</td>\n",
              "      <td>China</td>\n",
              "      <td>NaN</td>\n",
              "    </tr>\n",
              "    <tr>\n",
              "      <th>1</th>\n",
              "      <td>2</td>\n",
              "      <td>A Lamusi</td>\n",
              "      <td>M</td>\n",
              "      <td>23.0</td>\n",
              "      <td>170.0</td>\n",
              "      <td>60.0</td>\n",
              "      <td>China</td>\n",
              "      <td>CHN</td>\n",
              "      <td>2012 Summer</td>\n",
              "      <td>2012</td>\n",
              "      <td>Summer</td>\n",
              "      <td>London</td>\n",
              "      <td>Judo</td>\n",
              "      <td>Judo Men's Extra-Lightweight</td>\n",
              "      <td>NaN</td>\n",
              "      <td>China</td>\n",
              "      <td>NaN</td>\n",
              "    </tr>\n",
              "    <tr>\n",
              "      <th>2</th>\n",
              "      <td>3</td>\n",
              "      <td>Gunnar Nielsen Aaby</td>\n",
              "      <td>M</td>\n",
              "      <td>24.0</td>\n",
              "      <td>NaN</td>\n",
              "      <td>NaN</td>\n",
              "      <td>Denmark</td>\n",
              "      <td>DEN</td>\n",
              "      <td>1920 Summer</td>\n",
              "      <td>1920</td>\n",
              "      <td>Summer</td>\n",
              "      <td>Antwerpen</td>\n",
              "      <td>Football</td>\n",
              "      <td>Football Men's Football</td>\n",
              "      <td>NaN</td>\n",
              "      <td>Denmark</td>\n",
              "      <td>NaN</td>\n",
              "    </tr>\n",
              "    <tr>\n",
              "      <th>3</th>\n",
              "      <td>4</td>\n",
              "      <td>Edgar Lindenau Aabye</td>\n",
              "      <td>M</td>\n",
              "      <td>34.0</td>\n",
              "      <td>NaN</td>\n",
              "      <td>NaN</td>\n",
              "      <td>Denmark/Sweden</td>\n",
              "      <td>DEN</td>\n",
              "      <td>1900 Summer</td>\n",
              "      <td>1900</td>\n",
              "      <td>Summer</td>\n",
              "      <td>Paris</td>\n",
              "      <td>Tug-Of-War</td>\n",
              "      <td>Tug-Of-War Men's Tug-Of-War</td>\n",
              "      <td>Gold</td>\n",
              "      <td>Denmark</td>\n",
              "      <td>NaN</td>\n",
              "    </tr>\n",
              "    <tr>\n",
              "      <th>4</th>\n",
              "      <td>5</td>\n",
              "      <td>Christine Jacoba Aaftink</td>\n",
              "      <td>F</td>\n",
              "      <td>21.0</td>\n",
              "      <td>185.0</td>\n",
              "      <td>82.0</td>\n",
              "      <td>Netherlands</td>\n",
              "      <td>NED</td>\n",
              "      <td>1988 Winter</td>\n",
              "      <td>1988</td>\n",
              "      <td>Winter</td>\n",
              "      <td>Calgary</td>\n",
              "      <td>Speed Skating</td>\n",
              "      <td>Speed Skating Women's 500 metres</td>\n",
              "      <td>NaN</td>\n",
              "      <td>Netherlands</td>\n",
              "      <td>NaN</td>\n",
              "    </tr>\n",
              "  </tbody>\n",
              "</table>\n",
              "</div>"
            ],
            "text/plain": [
              "   ID                      Name Sex   Age  Height  Weight            Team  \\\n",
              "0   1                 A Dijiang   M  24.0   180.0    80.0           China   \n",
              "1   2                  A Lamusi   M  23.0   170.0    60.0           China   \n",
              "2   3       Gunnar Nielsen Aaby   M  24.0     NaN     NaN         Denmark   \n",
              "3   4      Edgar Lindenau Aabye   M  34.0     NaN     NaN  Denmark/Sweden   \n",
              "4   5  Christine Jacoba Aaftink   F  21.0   185.0    82.0     Netherlands   \n",
              "\n",
              "   NOC        Games  Year  Season       City          Sport  \\\n",
              "0  CHN  1992 Summer  1992  Summer  Barcelona     Basketball   \n",
              "1  CHN  2012 Summer  2012  Summer     London           Judo   \n",
              "2  DEN  1920 Summer  1920  Summer  Antwerpen       Football   \n",
              "3  DEN  1900 Summer  1900  Summer      Paris     Tug-Of-War   \n",
              "4  NED  1988 Winter  1988  Winter    Calgary  Speed Skating   \n",
              "\n",
              "                              Event Medal       region notes  \n",
              "0       Basketball Men's Basketball   NaN        China   NaN  \n",
              "1      Judo Men's Extra-Lightweight   NaN        China   NaN  \n",
              "2           Football Men's Football   NaN      Denmark   NaN  \n",
              "3       Tug-Of-War Men's Tug-Of-War  Gold      Denmark   NaN  \n",
              "4  Speed Skating Women's 500 metres   NaN  Netherlands   NaN  "
            ]
          },
          "execution_count": 12,
          "metadata": {},
          "output_type": "execute_result"
        }
      ],
      "source": [
        "df = athletes_data.merge(regions_data, how='left', on='NOC')\n",
        "df.head()"
      ]
    },
    {
      "cell_type": "code",
      "execution_count": null,
      "metadata": {
        "ExecuteTime": {
          "end_time": "2022-04-26T08:26:01.743394Z",
          "start_time": "2022-04-26T08:26:01.736413Z"
        },
        "id": "9KkdVZ-K4wF3",
        "outputId": "ec53c023-18bc-4448-90f7-64ae91bdb3cd"
      },
      "outputs": [
        {
          "data": {
            "text/plain": [
              "(271116, 17)"
            ]
          },
          "execution_count": 14,
          "metadata": {},
          "output_type": "execute_result"
        }
      ],
      "source": [
        "df.shape"
      ]
    },
    {
      "cell_type": "code",
      "execution_count": null,
      "metadata": {
        "ExecuteTime": {
          "end_time": "2022-04-26T08:30:27.993089Z",
          "start_time": "2022-04-26T08:30:27.971156Z"
        },
        "id": "Zi2XS4Gv4wF5",
        "outputId": "7ea2974a-be88-453d-ac34-1c7c828319c9"
      },
      "outputs": [
        {
          "data": {
            "text/html": [
              "<div>\n",
              "<style scoped>\n",
              "    .dataframe tbody tr th:only-of-type {\n",
              "        vertical-align: middle;\n",
              "    }\n",
              "\n",
              "    .dataframe tbody tr th {\n",
              "        vertical-align: top;\n",
              "    }\n",
              "\n",
              "    .dataframe thead th {\n",
              "        text-align: right;\n",
              "    }\n",
              "</style>\n",
              "<table border=\"1\" class=\"dataframe\">\n",
              "  <thead>\n",
              "    <tr style=\"text-align: right;\">\n",
              "      <th></th>\n",
              "      <th>ID</th>\n",
              "      <th>Name</th>\n",
              "      <th>Sex</th>\n",
              "      <th>Age</th>\n",
              "      <th>Height</th>\n",
              "      <th>Weight</th>\n",
              "      <th>Team</th>\n",
              "      <th>NOC</th>\n",
              "      <th>Games</th>\n",
              "      <th>Year</th>\n",
              "      <th>Season</th>\n",
              "      <th>City</th>\n",
              "      <th>Sport</th>\n",
              "      <th>Event</th>\n",
              "      <th>Medal</th>\n",
              "      <th>Region</th>\n",
              "      <th>Notes</th>\n",
              "    </tr>\n",
              "  </thead>\n",
              "  <tbody>\n",
              "    <tr>\n",
              "      <th>0</th>\n",
              "      <td>1</td>\n",
              "      <td>A Dijiang</td>\n",
              "      <td>M</td>\n",
              "      <td>24.0</td>\n",
              "      <td>180.0</td>\n",
              "      <td>80.0</td>\n",
              "      <td>China</td>\n",
              "      <td>CHN</td>\n",
              "      <td>1992 Summer</td>\n",
              "      <td>1992</td>\n",
              "      <td>Summer</td>\n",
              "      <td>Barcelona</td>\n",
              "      <td>Basketball</td>\n",
              "      <td>Basketball Men's Basketball</td>\n",
              "      <td>NaN</td>\n",
              "      <td>China</td>\n",
              "      <td>NaN</td>\n",
              "    </tr>\n",
              "    <tr>\n",
              "      <th>1</th>\n",
              "      <td>2</td>\n",
              "      <td>A Lamusi</td>\n",
              "      <td>M</td>\n",
              "      <td>23.0</td>\n",
              "      <td>170.0</td>\n",
              "      <td>60.0</td>\n",
              "      <td>China</td>\n",
              "      <td>CHN</td>\n",
              "      <td>2012 Summer</td>\n",
              "      <td>2012</td>\n",
              "      <td>Summer</td>\n",
              "      <td>London</td>\n",
              "      <td>Judo</td>\n",
              "      <td>Judo Men's Extra-Lightweight</td>\n",
              "      <td>NaN</td>\n",
              "      <td>China</td>\n",
              "      <td>NaN</td>\n",
              "    </tr>\n",
              "  </tbody>\n",
              "</table>\n",
              "</div>"
            ],
            "text/plain": [
              "   ID       Name Sex   Age  Height  Weight   Team  NOC        Games  Year  \\\n",
              "0   1  A Dijiang   M  24.0   180.0    80.0  China  CHN  1992 Summer  1992   \n",
              "1   2   A Lamusi   M  23.0   170.0    60.0  China  CHN  2012 Summer  2012   \n",
              "\n",
              "   Season       City       Sport                         Event Medal Region  \\\n",
              "0  Summer  Barcelona  Basketball   Basketball Men's Basketball   NaN  China   \n",
              "1  Summer     London        Judo  Judo Men's Extra-Lightweight   NaN  China   \n",
              "\n",
              "  Notes  \n",
              "0   NaN  \n",
              "1   NaN  "
            ]
          },
          "execution_count": 17,
          "metadata": {},
          "output_type": "execute_result"
        }
      ],
      "source": [
        "df.rename(columns={'region':'Region', 'notes': 'Notes'}, inplace=True)\n",
        "df.head(2)"
      ]
    },
    {
      "cell_type": "code",
      "execution_count": null,
      "metadata": {
        "ExecuteTime": {
          "end_time": "2022-04-26T09:13:16.548830Z",
          "start_time": "2022-04-26T09:13:16.400638Z"
        },
        "id": "VMTr9jBu4wF8",
        "outputId": "f3720aac-5de7-4d0f-f350-84a321b149ef"
      },
      "outputs": [
        {
          "data": {
            "text/html": [
              "<div>\n",
              "<style scoped>\n",
              "    .dataframe tbody tr th:only-of-type {\n",
              "        vertical-align: middle;\n",
              "    }\n",
              "\n",
              "    .dataframe tbody tr th {\n",
              "        vertical-align: top;\n",
              "    }\n",
              "\n",
              "    .dataframe thead th {\n",
              "        text-align: right;\n",
              "    }\n",
              "</style>\n",
              "<table border=\"1\" class=\"dataframe\">\n",
              "  <thead>\n",
              "    <tr style=\"text-align: right;\">\n",
              "      <th></th>\n",
              "      <th>ID</th>\n",
              "      <th>Age</th>\n",
              "      <th>Height</th>\n",
              "      <th>Weight</th>\n",
              "      <th>Year</th>\n",
              "    </tr>\n",
              "  </thead>\n",
              "  <tbody>\n",
              "    <tr>\n",
              "      <th>count</th>\n",
              "      <td>271116.000000</td>\n",
              "      <td>261642.000000</td>\n",
              "      <td>210945.000000</td>\n",
              "      <td>208241.000000</td>\n",
              "      <td>271116.000000</td>\n",
              "    </tr>\n",
              "    <tr>\n",
              "      <th>mean</th>\n",
              "      <td>68248.954396</td>\n",
              "      <td>25.556898</td>\n",
              "      <td>175.338970</td>\n",
              "      <td>70.702393</td>\n",
              "      <td>1978.378480</td>\n",
              "    </tr>\n",
              "    <tr>\n",
              "      <th>std</th>\n",
              "      <td>39022.286345</td>\n",
              "      <td>6.393561</td>\n",
              "      <td>10.518462</td>\n",
              "      <td>14.348020</td>\n",
              "      <td>29.877632</td>\n",
              "    </tr>\n",
              "    <tr>\n",
              "      <th>min</th>\n",
              "      <td>1.000000</td>\n",
              "      <td>10.000000</td>\n",
              "      <td>127.000000</td>\n",
              "      <td>25.000000</td>\n",
              "      <td>1896.000000</td>\n",
              "    </tr>\n",
              "    <tr>\n",
              "      <th>25%</th>\n",
              "      <td>34643.000000</td>\n",
              "      <td>21.000000</td>\n",
              "      <td>168.000000</td>\n",
              "      <td>60.000000</td>\n",
              "      <td>1960.000000</td>\n",
              "    </tr>\n",
              "    <tr>\n",
              "      <th>50%</th>\n",
              "      <td>68205.000000</td>\n",
              "      <td>24.000000</td>\n",
              "      <td>175.000000</td>\n",
              "      <td>70.000000</td>\n",
              "      <td>1988.000000</td>\n",
              "    </tr>\n",
              "    <tr>\n",
              "      <th>75%</th>\n",
              "      <td>102097.250000</td>\n",
              "      <td>28.000000</td>\n",
              "      <td>183.000000</td>\n",
              "      <td>79.000000</td>\n",
              "      <td>2002.000000</td>\n",
              "    </tr>\n",
              "    <tr>\n",
              "      <th>max</th>\n",
              "      <td>135571.000000</td>\n",
              "      <td>97.000000</td>\n",
              "      <td>226.000000</td>\n",
              "      <td>214.000000</td>\n",
              "      <td>2016.000000</td>\n",
              "    </tr>\n",
              "  </tbody>\n",
              "</table>\n",
              "</div>"
            ],
            "text/plain": [
              "                  ID            Age         Height         Weight  \\\n",
              "count  271116.000000  261642.000000  210945.000000  208241.000000   \n",
              "mean    68248.954396      25.556898     175.338970      70.702393   \n",
              "std     39022.286345       6.393561      10.518462      14.348020   \n",
              "min         1.000000      10.000000     127.000000      25.000000   \n",
              "25%     34643.000000      21.000000     168.000000      60.000000   \n",
              "50%     68205.000000      24.000000     175.000000      70.000000   \n",
              "75%    102097.250000      28.000000     183.000000      79.000000   \n",
              "max    135571.000000      97.000000     226.000000     214.000000   \n",
              "\n",
              "                Year  \n",
              "count  271116.000000  \n",
              "mean     1978.378480  \n",
              "std        29.877632  \n",
              "min      1896.000000  \n",
              "25%      1960.000000  \n",
              "50%      1988.000000  \n",
              "75%      2002.000000  \n",
              "max      2016.000000  "
            ]
          },
          "execution_count": 19,
          "metadata": {},
          "output_type": "execute_result"
        }
      ],
      "source": [
        "df.describe()"
      ]
    },
    {
      "cell_type": "code",
      "execution_count": null,
      "metadata": {
        "ExecuteTime": {
          "end_time": "2022-04-26T09:25:59.202511Z",
          "start_time": "2022-04-26T09:25:58.998879Z"
        },
        "id": "B355NkQO4wF-",
        "outputId": "0c6e911b-b6d9-4777-c7c5-0eb22ec2f1ba"
      },
      "outputs": [
        {
          "data": {
            "text/html": [
              "<div>\n",
              "<style scoped>\n",
              "    .dataframe tbody tr th:only-of-type {\n",
              "        vertical-align: middle;\n",
              "    }\n",
              "\n",
              "    .dataframe tbody tr th {\n",
              "        vertical-align: top;\n",
              "    }\n",
              "\n",
              "    .dataframe thead th {\n",
              "        text-align: right;\n",
              "    }\n",
              "</style>\n",
              "<table border=\"1\" class=\"dataframe\">\n",
              "  <thead>\n",
              "    <tr style=\"text-align: right;\">\n",
              "      <th></th>\n",
              "      <th>ID</th>\n",
              "      <th>Age</th>\n",
              "      <th>Height</th>\n",
              "      <th>Weight</th>\n",
              "      <th>Year</th>\n",
              "    </tr>\n",
              "  </thead>\n",
              "  <tbody>\n",
              "    <tr>\n",
              "      <th>count</th>\n",
              "      <td>196594.000000</td>\n",
              "      <td>187544.000000</td>\n",
              "      <td>143567.000000</td>\n",
              "      <td>141470.000000</td>\n",
              "      <td>196594.000000</td>\n",
              "    </tr>\n",
              "    <tr>\n",
              "      <th>mean</th>\n",
              "      <td>67601.598304</td>\n",
              "      <td>26.277562</td>\n",
              "      <td>178.858463</td>\n",
              "      <td>75.743677</td>\n",
              "      <td>1973.046064</td>\n",
              "    </tr>\n",
              "    <tr>\n",
              "      <th>std</th>\n",
              "      <td>39036.820069</td>\n",
              "      <td>6.474972</td>\n",
              "      <td>9.360318</td>\n",
              "      <td>13.211610</td>\n",
              "      <td>31.127867</td>\n",
              "    </tr>\n",
              "    <tr>\n",
              "      <th>min</th>\n",
              "      <td>1.000000</td>\n",
              "      <td>10.000000</td>\n",
              "      <td>127.000000</td>\n",
              "      <td>28.000000</td>\n",
              "      <td>1896.000000</td>\n",
              "    </tr>\n",
              "    <tr>\n",
              "      <th>25%</th>\n",
              "      <td>33868.250000</td>\n",
              "      <td>22.000000</td>\n",
              "      <td>172.000000</td>\n",
              "      <td>67.000000</td>\n",
              "      <td>1952.000000</td>\n",
              "    </tr>\n",
              "    <tr>\n",
              "      <th>50%</th>\n",
              "      <td>67271.500000</td>\n",
              "      <td>25.000000</td>\n",
              "      <td>179.000000</td>\n",
              "      <td>74.000000</td>\n",
              "      <td>1980.000000</td>\n",
              "    </tr>\n",
              "    <tr>\n",
              "      <th>75%</th>\n",
              "      <td>101638.000000</td>\n",
              "      <td>29.000000</td>\n",
              "      <td>185.000000</td>\n",
              "      <td>83.000000</td>\n",
              "      <td>2000.000000</td>\n",
              "    </tr>\n",
              "    <tr>\n",
              "      <th>max</th>\n",
              "      <td>135571.000000</td>\n",
              "      <td>97.000000</td>\n",
              "      <td>226.000000</td>\n",
              "      <td>214.000000</td>\n",
              "      <td>2016.000000</td>\n",
              "    </tr>\n",
              "  </tbody>\n",
              "</table>\n",
              "</div>"
            ],
            "text/plain": [
              "                  ID            Age         Height         Weight  \\\n",
              "count  196594.000000  187544.000000  143567.000000  141470.000000   \n",
              "mean    67601.598304      26.277562     178.858463      75.743677   \n",
              "std     39036.820069       6.474972       9.360318      13.211610   \n",
              "min         1.000000      10.000000     127.000000      28.000000   \n",
              "25%     33868.250000      22.000000     172.000000      67.000000   \n",
              "50%     67271.500000      25.000000     179.000000      74.000000   \n",
              "75%    101638.000000      29.000000     185.000000      83.000000   \n",
              "max    135571.000000      97.000000     226.000000     214.000000   \n",
              "\n",
              "                Year  \n",
              "count  196594.000000  \n",
              "mean     1973.046064  \n",
              "std        31.127867  \n",
              "min      1896.000000  \n",
              "25%      1952.000000  \n",
              "50%      1980.000000  \n",
              "75%      2000.000000  \n",
              "max      2016.000000  "
            ]
          },
          "execution_count": 29,
          "metadata": {},
          "output_type": "execute_result"
        }
      ],
      "source": [
        "# Male and Female participants are:\n",
        "\n",
        "df_m=df[df['Sex']=='M']\n",
        "df_m.describe()"
      ]
    },
    {
      "cell_type": "code",
      "execution_count": null,
      "metadata": {
        "ExecuteTime": {
          "end_time": "2022-04-27T17:28:05.399955Z",
          "start_time": "2022-04-27T17:28:05.032793Z"
        },
        "id": "-KbyEDLz4wGA",
        "outputId": "9e75be77-e052-4b0d-fdf1-bdab6230110b"
      },
      "outputs": [
        {
          "data": {
            "text/html": [
              "<div>\n",
              "<style scoped>\n",
              "    .dataframe tbody tr th:only-of-type {\n",
              "        vertical-align: middle;\n",
              "    }\n",
              "\n",
              "    .dataframe tbody tr th {\n",
              "        vertical-align: top;\n",
              "    }\n",
              "\n",
              "    .dataframe thead th {\n",
              "        text-align: right;\n",
              "    }\n",
              "</style>\n",
              "<table border=\"1\" class=\"dataframe\">\n",
              "  <thead>\n",
              "    <tr style=\"text-align: right;\">\n",
              "      <th></th>\n",
              "      <th>ID</th>\n",
              "      <th>Age</th>\n",
              "      <th>Height</th>\n",
              "      <th>Weight</th>\n",
              "      <th>Year</th>\n",
              "    </tr>\n",
              "  </thead>\n",
              "  <tbody>\n",
              "    <tr>\n",
              "      <th>count</th>\n",
              "      <td>74522.000000</td>\n",
              "      <td>74098.000000</td>\n",
              "      <td>67378.000000</td>\n",
              "      <td>66771.000000</td>\n",
              "      <td>74522.000000</td>\n",
              "    </tr>\n",
              "    <tr>\n",
              "      <th>mean</th>\n",
              "      <td>69956.722887</td>\n",
              "      <td>23.732881</td>\n",
              "      <td>167.839740</td>\n",
              "      <td>60.021252</td>\n",
              "      <td>1992.445748</td>\n",
              "    </tr>\n",
              "    <tr>\n",
              "      <th>std</th>\n",
              "      <td>38932.561177</td>\n",
              "      <td>5.795252</td>\n",
              "      <td>8.778528</td>\n",
              "      <td>10.212250</td>\n",
              "      <td>20.458993</td>\n",
              "    </tr>\n",
              "    <tr>\n",
              "      <th>min</th>\n",
              "      <td>5.000000</td>\n",
              "      <td>11.000000</td>\n",
              "      <td>127.000000</td>\n",
              "      <td>25.000000</td>\n",
              "      <td>1900.000000</td>\n",
              "    </tr>\n",
              "    <tr>\n",
              "      <th>25%</th>\n",
              "      <td>36558.500000</td>\n",
              "      <td>20.000000</td>\n",
              "      <td>162.000000</td>\n",
              "      <td>54.000000</td>\n",
              "      <td>1984.000000</td>\n",
              "    </tr>\n",
              "    <tr>\n",
              "      <th>50%</th>\n",
              "      <td>70128.000000</td>\n",
              "      <td>23.000000</td>\n",
              "      <td>168.000000</td>\n",
              "      <td>59.000000</td>\n",
              "      <td>1998.000000</td>\n",
              "    </tr>\n",
              "    <tr>\n",
              "      <th>75%</th>\n",
              "      <td>103534.750000</td>\n",
              "      <td>27.000000</td>\n",
              "      <td>173.000000</td>\n",
              "      <td>65.000000</td>\n",
              "      <td>2008.000000</td>\n",
              "    </tr>\n",
              "    <tr>\n",
              "      <th>max</th>\n",
              "      <td>135568.000000</td>\n",
              "      <td>74.000000</td>\n",
              "      <td>213.000000</td>\n",
              "      <td>167.000000</td>\n",
              "      <td>2016.000000</td>\n",
              "    </tr>\n",
              "  </tbody>\n",
              "</table>\n",
              "</div>"
            ],
            "text/plain": [
              "                  ID           Age        Height        Weight          Year\n",
              "count   74522.000000  74098.000000  67378.000000  66771.000000  74522.000000\n",
              "mean    69956.722887     23.732881    167.839740     60.021252   1992.445748\n",
              "std     38932.561177      5.795252      8.778528     10.212250     20.458993\n",
              "min         5.000000     11.000000    127.000000     25.000000   1900.000000\n",
              "25%     36558.500000     20.000000    162.000000     54.000000   1984.000000\n",
              "50%     70128.000000     23.000000    168.000000     59.000000   1998.000000\n",
              "75%    103534.750000     27.000000    173.000000     65.000000   2008.000000\n",
              "max    135568.000000     74.000000    213.000000    167.000000   2016.000000"
            ]
          },
          "execution_count": 131,
          "metadata": {},
          "output_type": "execute_result"
        }
      ],
      "source": [
        "df_w=df[df['Sex']=='F']\n",
        "df_w.describe()"
      ]
    },
    {
      "cell_type": "code",
      "execution_count": null,
      "metadata": {
        "ExecuteTime": {
          "end_time": "2022-04-27T17:37:19.312727Z",
          "start_time": "2022-04-27T17:37:18.965155Z"
        },
        "id": "q5BRqyaG4wGB",
        "outputId": "db930fcb-16d6-445d-b04a-62a38c9296d0"
      },
      "outputs": [
        {
          "data": {
            "text/html": [
              "<div>\n",
              "<style scoped>\n",
              "    .dataframe tbody tr th:only-of-type {\n",
              "        vertical-align: middle;\n",
              "    }\n",
              "\n",
              "    .dataframe tbody tr th {\n",
              "        vertical-align: top;\n",
              "    }\n",
              "\n",
              "    .dataframe thead th {\n",
              "        text-align: right;\n",
              "    }\n",
              "</style>\n",
              "<table border=\"1\" class=\"dataframe\">\n",
              "  <thead>\n",
              "    <tr style=\"text-align: right;\">\n",
              "      <th></th>\n",
              "      <th>Year</th>\n",
              "      <th>Season</th>\n",
              "      <th>Sex</th>\n",
              "    </tr>\n",
              "  </thead>\n",
              "  <tbody>\n",
              "    <tr>\n",
              "      <th>0</th>\n",
              "      <td>1900</td>\n",
              "      <td>Summer</td>\n",
              "      <td>33</td>\n",
              "    </tr>\n",
              "    <tr>\n",
              "      <th>1</th>\n",
              "      <td>1904</td>\n",
              "      <td>Summer</td>\n",
              "      <td>16</td>\n",
              "    </tr>\n",
              "    <tr>\n",
              "      <th>2</th>\n",
              "      <td>1906</td>\n",
              "      <td>Summer</td>\n",
              "      <td>11</td>\n",
              "    </tr>\n",
              "    <tr>\n",
              "      <th>3</th>\n",
              "      <td>1908</td>\n",
              "      <td>Summer</td>\n",
              "      <td>47</td>\n",
              "    </tr>\n",
              "    <tr>\n",
              "      <th>4</th>\n",
              "      <td>1912</td>\n",
              "      <td>Summer</td>\n",
              "      <td>87</td>\n",
              "    </tr>\n",
              "    <tr>\n",
              "      <th>5</th>\n",
              "      <td>1920</td>\n",
              "      <td>Summer</td>\n",
              "      <td>134</td>\n",
              "    </tr>\n",
              "    <tr>\n",
              "      <th>6</th>\n",
              "      <td>1924</td>\n",
              "      <td>Summer</td>\n",
              "      <td>244</td>\n",
              "    </tr>\n",
              "    <tr>\n",
              "      <th>7</th>\n",
              "      <td>1924</td>\n",
              "      <td>Winter</td>\n",
              "      <td>17</td>\n",
              "    </tr>\n",
              "    <tr>\n",
              "      <th>8</th>\n",
              "      <td>1928</td>\n",
              "      <td>Summer</td>\n",
              "      <td>404</td>\n",
              "    </tr>\n",
              "    <tr>\n",
              "      <th>9</th>\n",
              "      <td>1928</td>\n",
              "      <td>Winter</td>\n",
              "      <td>33</td>\n",
              "    </tr>\n",
              "    <tr>\n",
              "      <th>10</th>\n",
              "      <td>1932</td>\n",
              "      <td>Summer</td>\n",
              "      <td>347</td>\n",
              "    </tr>\n",
              "    <tr>\n",
              "      <th>11</th>\n",
              "      <td>1932</td>\n",
              "      <td>Winter</td>\n",
              "      <td>22</td>\n",
              "    </tr>\n",
              "    <tr>\n",
              "      <th>12</th>\n",
              "      <td>1936</td>\n",
              "      <td>Summer</td>\n",
              "      <td>468</td>\n",
              "    </tr>\n",
              "    <tr>\n",
              "      <th>13</th>\n",
              "      <td>1936</td>\n",
              "      <td>Winter</td>\n",
              "      <td>81</td>\n",
              "    </tr>\n",
              "    <tr>\n",
              "      <th>14</th>\n",
              "      <td>1948</td>\n",
              "      <td>Summer</td>\n",
              "      <td>628</td>\n",
              "    </tr>\n",
              "    <tr>\n",
              "      <th>15</th>\n",
              "      <td>1948</td>\n",
              "      <td>Winter</td>\n",
              "      <td>133</td>\n",
              "    </tr>\n",
              "    <tr>\n",
              "      <th>16</th>\n",
              "      <td>1952</td>\n",
              "      <td>Summer</td>\n",
              "      <td>1497</td>\n",
              "    </tr>\n",
              "    <tr>\n",
              "      <th>17</th>\n",
              "      <td>1952</td>\n",
              "      <td>Winter</td>\n",
              "      <td>185</td>\n",
              "    </tr>\n",
              "    <tr>\n",
              "      <th>18</th>\n",
              "      <td>1956</td>\n",
              "      <td>Summer</td>\n",
              "      <td>893</td>\n",
              "    </tr>\n",
              "    <tr>\n",
              "      <th>19</th>\n",
              "      <td>1956</td>\n",
              "      <td>Winter</td>\n",
              "      <td>246</td>\n",
              "    </tr>\n",
              "    <tr>\n",
              "      <th>20</th>\n",
              "      <td>1960</td>\n",
              "      <td>Summer</td>\n",
              "      <td>1435</td>\n",
              "    </tr>\n",
              "    <tr>\n",
              "      <th>21</th>\n",
              "      <td>1960</td>\n",
              "      <td>Winter</td>\n",
              "      <td>295</td>\n",
              "    </tr>\n",
              "    <tr>\n",
              "      <th>22</th>\n",
              "      <td>1964</td>\n",
              "      <td>Summer</td>\n",
              "      <td>1348</td>\n",
              "    </tr>\n",
              "    <tr>\n",
              "      <th>23</th>\n",
              "      <td>1964</td>\n",
              "      <td>Winter</td>\n",
              "      <td>404</td>\n",
              "    </tr>\n",
              "    <tr>\n",
              "      <th>24</th>\n",
              "      <td>1968</td>\n",
              "      <td>Summer</td>\n",
              "      <td>1777</td>\n",
              "    </tr>\n",
              "    <tr>\n",
              "      <th>25</th>\n",
              "      <td>1968</td>\n",
              "      <td>Winter</td>\n",
              "      <td>416</td>\n",
              "    </tr>\n",
              "    <tr>\n",
              "      <th>26</th>\n",
              "      <td>1972</td>\n",
              "      <td>Summer</td>\n",
              "      <td>2193</td>\n",
              "    </tr>\n",
              "    <tr>\n",
              "      <th>27</th>\n",
              "      <td>1972</td>\n",
              "      <td>Winter</td>\n",
              "      <td>415</td>\n",
              "    </tr>\n",
              "    <tr>\n",
              "      <th>28</th>\n",
              "      <td>1976</td>\n",
              "      <td>Summer</td>\n",
              "      <td>2172</td>\n",
              "    </tr>\n",
              "    <tr>\n",
              "      <th>29</th>\n",
              "      <td>1976</td>\n",
              "      <td>Winter</td>\n",
              "      <td>434</td>\n",
              "    </tr>\n",
              "    <tr>\n",
              "      <th>30</th>\n",
              "      <td>1980</td>\n",
              "      <td>Summer</td>\n",
              "      <td>1756</td>\n",
              "    </tr>\n",
              "    <tr>\n",
              "      <th>31</th>\n",
              "      <td>1980</td>\n",
              "      <td>Winter</td>\n",
              "      <td>430</td>\n",
              "    </tr>\n",
              "    <tr>\n",
              "      <th>32</th>\n",
              "      <td>1984</td>\n",
              "      <td>Summer</td>\n",
              "      <td>2447</td>\n",
              "    </tr>\n",
              "    <tr>\n",
              "      <th>33</th>\n",
              "      <td>1984</td>\n",
              "      <td>Winter</td>\n",
              "      <td>536</td>\n",
              "    </tr>\n",
              "    <tr>\n",
              "      <th>34</th>\n",
              "      <td>1988</td>\n",
              "      <td>Summer</td>\n",
              "      <td>3543</td>\n",
              "    </tr>\n",
              "    <tr>\n",
              "      <th>35</th>\n",
              "      <td>1988</td>\n",
              "      <td>Winter</td>\n",
              "      <td>680</td>\n",
              "    </tr>\n",
              "    <tr>\n",
              "      <th>36</th>\n",
              "      <td>1992</td>\n",
              "      <td>Summer</td>\n",
              "      <td>4124</td>\n",
              "    </tr>\n",
              "    <tr>\n",
              "      <th>37</th>\n",
              "      <td>1992</td>\n",
              "      <td>Winter</td>\n",
              "      <td>1054</td>\n",
              "    </tr>\n",
              "    <tr>\n",
              "      <th>38</th>\n",
              "      <td>1994</td>\n",
              "      <td>Winter</td>\n",
              "      <td>1105</td>\n",
              "    </tr>\n",
              "    <tr>\n",
              "      <th>39</th>\n",
              "      <td>1996</td>\n",
              "      <td>Summer</td>\n",
              "      <td>5008</td>\n",
              "    </tr>\n",
              "    <tr>\n",
              "      <th>40</th>\n",
              "      <td>1998</td>\n",
              "      <td>Winter</td>\n",
              "      <td>1384</td>\n",
              "    </tr>\n",
              "    <tr>\n",
              "      <th>41</th>\n",
              "      <td>2000</td>\n",
              "      <td>Summer</td>\n",
              "      <td>5431</td>\n",
              "    </tr>\n",
              "    <tr>\n",
              "      <th>42</th>\n",
              "      <td>2002</td>\n",
              "      <td>Winter</td>\n",
              "      <td>1582</td>\n",
              "    </tr>\n",
              "    <tr>\n",
              "      <th>43</th>\n",
              "      <td>2004</td>\n",
              "      <td>Summer</td>\n",
              "      <td>5546</td>\n",
              "    </tr>\n",
              "    <tr>\n",
              "      <th>44</th>\n",
              "      <td>2006</td>\n",
              "      <td>Winter</td>\n",
              "      <td>1757</td>\n",
              "    </tr>\n",
              "    <tr>\n",
              "      <th>45</th>\n",
              "      <td>2008</td>\n",
              "      <td>Summer</td>\n",
              "      <td>5816</td>\n",
              "    </tr>\n",
              "    <tr>\n",
              "      <th>46</th>\n",
              "      <td>2010</td>\n",
              "      <td>Winter</td>\n",
              "      <td>1847</td>\n",
              "    </tr>\n",
              "    <tr>\n",
              "      <th>47</th>\n",
              "      <td>2012</td>\n",
              "      <td>Summer</td>\n",
              "      <td>5815</td>\n",
              "    </tr>\n",
              "    <tr>\n",
              "      <th>48</th>\n",
              "      <td>2014</td>\n",
              "      <td>Winter</td>\n",
              "      <td>2023</td>\n",
              "    </tr>\n",
              "    <tr>\n",
              "      <th>49</th>\n",
              "      <td>2016</td>\n",
              "      <td>Summer</td>\n",
              "      <td>6223</td>\n",
              "    </tr>\n",
              "  </tbody>\n",
              "</table>\n",
              "</div>"
            ],
            "text/plain": [
              "    Year  Season   Sex\n",
              "0   1900  Summer    33\n",
              "1   1904  Summer    16\n",
              "2   1906  Summer    11\n",
              "3   1908  Summer    47\n",
              "4   1912  Summer    87\n",
              "5   1920  Summer   134\n",
              "6   1924  Summer   244\n",
              "7   1924  Winter    17\n",
              "8   1928  Summer   404\n",
              "9   1928  Winter    33\n",
              "10  1932  Summer   347\n",
              "11  1932  Winter    22\n",
              "12  1936  Summer   468\n",
              "13  1936  Winter    81\n",
              "14  1948  Summer   628\n",
              "15  1948  Winter   133\n",
              "16  1952  Summer  1497\n",
              "17  1952  Winter   185\n",
              "18  1956  Summer   893\n",
              "19  1956  Winter   246\n",
              "20  1960  Summer  1435\n",
              "21  1960  Winter   295\n",
              "22  1964  Summer  1348\n",
              "23  1964  Winter   404\n",
              "24  1968  Summer  1777\n",
              "25  1968  Winter   416\n",
              "26  1972  Summer  2193\n",
              "27  1972  Winter   415\n",
              "28  1976  Summer  2172\n",
              "29  1976  Winter   434\n",
              "30  1980  Summer  1756\n",
              "31  1980  Winter   430\n",
              "32  1984  Summer  2447\n",
              "33  1984  Winter   536\n",
              "34  1988  Summer  3543\n",
              "35  1988  Winter   680\n",
              "36  1992  Summer  4124\n",
              "37  1992  Winter  1054\n",
              "38  1994  Winter  1105\n",
              "39  1996  Summer  5008\n",
              "40  1998  Winter  1384\n",
              "41  2000  Summer  5431\n",
              "42  2002  Winter  1582\n",
              "43  2004  Summer  5546\n",
              "44  2006  Winter  1757\n",
              "45  2008  Summer  5816\n",
              "46  2010  Winter  1847\n",
              "47  2012  Summer  5815\n",
              "48  2014  Winter  2023\n",
              "49  2016  Summer  6223"
            ]
          },
          "execution_count": 136,
          "metadata": {},
          "output_type": "execute_result"
        }
      ],
      "source": [
        "# Count Female participants by years and winter/summer Olympic game \n",
        "female_by_years = df[df.Sex == 'F'][['Sex', 'Year', 'Season']]\n",
        "female_by_years.groupby(['Year', 'Season']).count().reset_index()"
      ]
    },
    {
      "cell_type": "code",
      "execution_count": null,
      "metadata": {
        "ExecuteTime": {
          "end_time": "2022-04-26T09:35:39.529461Z",
          "start_time": "2022-04-26T09:35:39.518575Z"
        },
        "id": "7B2N-ESs4wGD",
        "outputId": "938a149c-ef3b-4238-df35-0c4327718fcc"
      },
      "outputs": [
        {
          "data": {
            "text/plain": [
              "ID        240\n",
              "Name      240\n",
              "Sex       240\n",
              "Age       240\n",
              "Height    201\n",
              "Weight    196\n",
              "Team      240\n",
              "NOC       240\n",
              "Games     240\n",
              "Year      240\n",
              "Season    240\n",
              "City      240\n",
              "Sport     240\n",
              "Event     240\n",
              "Medal      24\n",
              "Region    234\n",
              "Notes       5\n",
              "dtype: int64"
            ]
          },
          "execution_count": 41,
          "metadata": {},
          "output_type": "execute_result"
        }
      ],
      "source": [
        "df_2016 = df[df['Age']<14]\n",
        "df_2016.count()"
      ]
    },
    {
      "cell_type": "code",
      "execution_count": null,
      "metadata": {
        "ExecuteTime": {
          "end_time": "2022-04-26T22:10:00.750664Z",
          "start_time": "2022-04-26T22:10:00.640439Z"
        },
        "id": "9WuB3JS14wGF",
        "outputId": "c5edc463-159c-4030-8d54-ed6590825756"
      },
      "outputs": [
        {
          "data": {
            "text/plain": [
              "ID        False\n",
              "Name      False\n",
              "Sex       False\n",
              "Age        True\n",
              "Height     True\n",
              "Weight     True\n",
              "Team      False\n",
              "NOC       False\n",
              "Games     False\n",
              "Year      False\n",
              "Season    False\n",
              "City      False\n",
              "Sport     False\n",
              "Event     False\n",
              "Medal      True\n",
              "Region     True\n",
              "Notes      True\n",
              "dtype: bool"
            ]
          },
          "execution_count": 46,
          "metadata": {},
          "output_type": "execute_result"
        }
      ],
      "source": [
        "# Check null values\n",
        "# If column has any Nan value, it will be shown as False. Othervise is True.\n",
        "\n",
        "nan_df = df.isna()\n",
        "nan_columns = nan_df.any()\n",
        "nan_columns"
      ]
    },
    {
      "cell_type": "code",
      "execution_count": null,
      "metadata": {
        "ExecuteTime": {
          "end_time": "2022-04-26T22:15:44.692032Z",
          "start_time": "2022-04-26T22:15:44.574065Z"
        },
        "id": "B4ehoqXi4wGG",
        "outputId": "3ef4542a-cde1-4fdd-f625-f9e06ae1d7ff"
      },
      "outputs": [
        {
          "data": {
            "text/plain": [
              "ID             0\n",
              "Name           0\n",
              "Sex            0\n",
              "Age         9474\n",
              "Height     60171\n",
              "Weight     62875\n",
              "Team           0\n",
              "NOC            0\n",
              "Games          0\n",
              "Year           0\n",
              "Season         0\n",
              "City           0\n",
              "Sport          0\n",
              "Event          0\n",
              "Medal     231333\n",
              "Region       370\n",
              "Notes     266077\n",
              "dtype: int64"
            ]
          },
          "execution_count": 51,
          "metadata": {},
          "output_type": "execute_result"
        }
      ],
      "source": [
        "# Counts null cells by each column\n",
        "column_nan_count = df.isnull().sum()\n",
        "column_nan_count"
      ]
    },
    {
      "cell_type": "code",
      "execution_count": null,
      "metadata": {
        "ExecuteTime": {
          "end_time": "2022-04-26T22:50:41.284105Z",
          "start_time": "2022-04-26T22:50:41.269054Z"
        },
        "id": "OEl4z35y4wGH",
        "outputId": "16b2515d-4a60-4908-b7cd-ac85ab8066d8"
      },
      "outputs": [
        {
          "name": "stdout",
          "output_type": "stream",
          "text": [
            "Age\n",
            "Height\n",
            "Weight\n",
            "Medal\n",
            "Region\n",
            "Notes\n"
          ]
        }
      ],
      "source": [
        "# Columns containing null values or missing values\n",
        "for col in column_nan_count.items():\n",
        "    if col[1] != 0:\n",
        "        print(col[0])"
      ]
    },
    {
      "cell_type": "code",
      "execution_count": null,
      "metadata": {
        "ExecuteTime": {
          "end_time": "2022-04-26T22:58:53.678475Z",
          "start_time": "2022-04-26T22:58:53.650215Z"
        },
        "id": "b5VKtbAg4wGI",
        "outputId": "e43ac9c8-ded4-4831-880e-244e6547eeea"
      },
      "outputs": [
        {
          "data": {
            "text/html": [
              "<div>\n",
              "<style scoped>\n",
              "    .dataframe tbody tr th:only-of-type {\n",
              "        vertical-align: middle;\n",
              "    }\n",
              "\n",
              "    .dataframe tbody tr th {\n",
              "        vertical-align: top;\n",
              "    }\n",
              "\n",
              "    .dataframe thead th {\n",
              "        text-align: right;\n",
              "    }\n",
              "</style>\n",
              "<table border=\"1\" class=\"dataframe\">\n",
              "  <thead>\n",
              "    <tr style=\"text-align: right;\">\n",
              "      <th></th>\n",
              "      <th>ID</th>\n",
              "      <th>Name</th>\n",
              "      <th>Sex</th>\n",
              "      <th>Age</th>\n",
              "      <th>Height</th>\n",
              "      <th>Weight</th>\n",
              "      <th>Team</th>\n",
              "      <th>NOC</th>\n",
              "      <th>Games</th>\n",
              "      <th>Year</th>\n",
              "      <th>Season</th>\n",
              "      <th>City</th>\n",
              "      <th>Sport</th>\n",
              "      <th>Event</th>\n",
              "      <th>Medal</th>\n",
              "      <th>Region</th>\n",
              "      <th>Notes</th>\n",
              "    </tr>\n",
              "  </thead>\n",
              "  <tbody>\n",
              "    <tr>\n",
              "      <th>752</th>\n",
              "      <td>431</td>\n",
              "      <td>Narek Abgaryan</td>\n",
              "      <td>M</td>\n",
              "      <td>24.0</td>\n",
              "      <td>166.0</td>\n",
              "      <td>52.0</td>\n",
              "      <td>Armenia</td>\n",
              "      <td>ARM</td>\n",
              "      <td>2016 Summer</td>\n",
              "      <td>2016</td>\n",
              "      <td>Summer</td>\n",
              "      <td>Rio de Janeiro</td>\n",
              "      <td>Boxing</td>\n",
              "      <td>Boxing Men's Flyweight</td>\n",
              "      <td>NaN</td>\n",
              "      <td>Armenia</td>\n",
              "      <td>NaN</td>\n",
              "    </tr>\n",
              "    <tr>\n",
              "      <th>1696</th>\n",
              "      <td>943</td>\n",
              "      <td>Arman Adikyan</td>\n",
              "      <td>M</td>\n",
              "      <td>23.0</td>\n",
              "      <td>168.0</td>\n",
              "      <td>66.0</td>\n",
              "      <td>Armenia</td>\n",
              "      <td>ARM</td>\n",
              "      <td>2008 Summer</td>\n",
              "      <td>2008</td>\n",
              "      <td>Summer</td>\n",
              "      <td>Beijing</td>\n",
              "      <td>Wrestling</td>\n",
              "      <td>Wrestling Men's Welterweight, Greco-Roman</td>\n",
              "      <td>NaN</td>\n",
              "      <td>Armenia</td>\n",
              "      <td>NaN</td>\n",
              "    </tr>\n",
              "    <tr>\n",
              "      <th>2083</th>\n",
              "      <td>1158</td>\n",
              "      <td>Mamed Aghaev</td>\n",
              "      <td>M</td>\n",
              "      <td>28.0</td>\n",
              "      <td>177.0</td>\n",
              "      <td>84.0</td>\n",
              "      <td>Armenia</td>\n",
              "      <td>ARM</td>\n",
              "      <td>2004 Summer</td>\n",
              "      <td>2004</td>\n",
              "      <td>Summer</td>\n",
              "      <td>Athina</td>\n",
              "      <td>Wrestling</td>\n",
              "      <td>Wrestling Men's Light-Heavyweight, Freestyle</td>\n",
              "      <td>NaN</td>\n",
              "      <td>Armenia</td>\n",
              "      <td>NaN</td>\n",
              "    </tr>\n",
              "    <tr>\n",
              "      <th>2088</th>\n",
              "      <td>1162</td>\n",
              "      <td>Levon Aghasyan</td>\n",
              "      <td>M</td>\n",
              "      <td>21.0</td>\n",
              "      <td>193.0</td>\n",
              "      <td>75.0</td>\n",
              "      <td>Armenia</td>\n",
              "      <td>ARM</td>\n",
              "      <td>2016 Summer</td>\n",
              "      <td>2016</td>\n",
              "      <td>Summer</td>\n",
              "      <td>Rio de Janeiro</td>\n",
              "      <td>Athletics</td>\n",
              "      <td>Athletics Men's Triple Jump</td>\n",
              "      <td>NaN</td>\n",
              "      <td>Armenia</td>\n",
              "      <td>NaN</td>\n",
              "    </tr>\n",
              "    <tr>\n",
              "      <th>4382</th>\n",
              "      <td>2497</td>\n",
              "      <td>Artur Aleksanyan</td>\n",
              "      <td>M</td>\n",
              "      <td>20.0</td>\n",
              "      <td>190.0</td>\n",
              "      <td>98.0</td>\n",
              "      <td>Armenia</td>\n",
              "      <td>ARM</td>\n",
              "      <td>2012 Summer</td>\n",
              "      <td>2012</td>\n",
              "      <td>Summer</td>\n",
              "      <td>London</td>\n",
              "      <td>Wrestling</td>\n",
              "      <td>Wrestling Men's Heavyweight, Greco-Roman</td>\n",
              "      <td>Bronze</td>\n",
              "      <td>Armenia</td>\n",
              "      <td>NaN</td>\n",
              "    </tr>\n",
              "  </tbody>\n",
              "</table>\n",
              "</div>"
            ],
            "text/plain": [
              "        ID              Name Sex   Age  Height  Weight     Team  NOC  \\\n",
              "752    431    Narek Abgaryan   M  24.0   166.0    52.0  Armenia  ARM   \n",
              "1696   943     Arman Adikyan   M  23.0   168.0    66.0  Armenia  ARM   \n",
              "2083  1158      Mamed Aghaev   M  28.0   177.0    84.0  Armenia  ARM   \n",
              "2088  1162    Levon Aghasyan   M  21.0   193.0    75.0  Armenia  ARM   \n",
              "4382  2497  Artur Aleksanyan   M  20.0   190.0    98.0  Armenia  ARM   \n",
              "\n",
              "            Games  Year  Season            City      Sport  \\\n",
              "752   2016 Summer  2016  Summer  Rio de Janeiro     Boxing   \n",
              "1696  2008 Summer  2008  Summer         Beijing  Wrestling   \n",
              "2083  2004 Summer  2004  Summer          Athina  Wrestling   \n",
              "2088  2016 Summer  2016  Summer  Rio de Janeiro  Athletics   \n",
              "4382  2012 Summer  2012  Summer          London  Wrestling   \n",
              "\n",
              "                                             Event   Medal   Region Notes  \n",
              "752                         Boxing Men's Flyweight     NaN  Armenia   NaN  \n",
              "1696     Wrestling Men's Welterweight, Greco-Roman     NaN  Armenia   NaN  \n",
              "2083  Wrestling Men's Light-Heavyweight, Freestyle     NaN  Armenia   NaN  \n",
              "2088                   Athletics Men's Triple Jump     NaN  Armenia   NaN  \n",
              "4382      Wrestling Men's Heavyweight, Greco-Roman  Bronze  Armenia   NaN  "
            ]
          },
          "execution_count": 62,
          "metadata": {},
          "output_type": "execute_result"
        }
      ],
      "source": [
        "# querying unique country data\n",
        "df.query('Team == \"Armenia\"').head(5)\n",
        "\n",
        "# The previous expression is equivalent to\n",
        "# df[df.Team == 'Armenia']"
      ]
    },
    {
      "cell_type": "code",
      "execution_count": null,
      "metadata": {
        "ExecuteTime": {
          "end_time": "2022-04-26T23:03:39.959917Z",
          "start_time": "2022-04-26T23:03:39.917306Z"
        },
        "id": "R8nyGCfc4wGJ",
        "outputId": "0884525b-50c9-4623-fc94-95a1a6c2b90f"
      },
      "outputs": [
        {
          "data": {
            "text/plain": [
              "United States    17847\n",
              "France           11988\n",
              "Great Britain    11404\n",
              "Italy            10260\n",
              "Germany           9326\n",
              "Canada            9279\n",
              "Japan             8289\n",
              "Sweden            8052\n",
              "Australia         7513\n",
              "Hungary           6547\n",
              "Name: Team, dtype: int64"
            ]
          },
          "execution_count": 65,
          "metadata": {},
          "output_type": "execute_result"
        }
      ],
      "source": [
        "# Top participants\n",
        "top_countries = df.Team.value_counts().sort_values(ascending=False).head(10)\n",
        "top_countries"
      ]
    },
    {
      "cell_type": "code",
      "execution_count": null,
      "metadata": {
        "ExecuteTime": {
          "end_time": "2022-04-26T23:07:32.356465Z",
          "start_time": "2022-04-26T23:07:30.205846Z"
        },
        "id": "dnoXbNKF4wGK",
        "outputId": "74e3eb4b-8add-462a-87ea-1449d19322c8"
      },
      "outputs": [
        {
          "data": {
            "text/plain": [
              "<AxesSubplot:title={'center':'Overall Participation by Country'}, ylabel='Team'>"
            ]
          },
          "execution_count": 66,
          "metadata": {},
          "output_type": "execute_result"
        },
        {
          "data": {
            "image/png": "[encoded data removed]",
            "text/plain": [
              "<Figure size 864x432 with 1 Axes>"
            ]
          },
          "metadata": {
            "needs_background": "light"
          },
          "output_type": "display_data"
        }
      ],
      "source": [
        "# Plot for the top 10 countries\n",
        "\n",
        "plt.figure(figsize=(12,6))\n",
        "#plt.xticks(rotation=20)\n",
        "plt.title('Overall Participation by Country')\n",
        "sns.barplot(x=top_countries.index, y=top_countries, palette='Set2')"
      ]
    },
    {
      "cell_type": "code",
      "execution_count": null,
      "metadata": {
        "ExecuteTime": {
          "end_time": "2022-04-26T23:16:11.873658Z",
          "start_time": "2022-04-26T23:16:11.664371Z"
        },
        "id": "ODDSotTd4wGL",
        "outputId": "ada893b0-bdef-4cce-cdc1-9864cf6c7caa"
      },
      "outputs": [
        {
          "data": {
            "text/plain": [
              "(array([1.4000e+01, 2.2600e+02, 3.0400e+03, 9.2280e+03, 1.9795e+04,\n",
              "        3.4422e+04, 4.2689e+04, 4.1427e+04, 3.3700e+04, 2.5506e+04,\n",
              "        1.7047e+04, 1.1046e+04, 7.1180e+03, 4.4560e+03, 3.0170e+03,\n",
              "        2.1630e+03, 1.6590e+03, 1.2670e+03, 8.3700e+02, 7.6900e+02,\n",
              "        4.7700e+02, 4.4400e+02, 2.6600e+02, 2.0000e+02, 1.7100e+02,\n",
              "        1.5600e+02, 1.1800e+02, 1.1400e+02, 5.6000e+01, 8.5000e+01,\n",
              "        6.1000e+01, 3.2000e+01, 1.6000e+01, 9.0000e+00]),\n",
              " array([10, 12, 14, 16, 18, 20, 22, 24, 26, 28, 30, 32, 34, 36, 38, 40, 42,\n",
              "        44, 46, 48, 50, 52, 54, 56, 58, 60, 62, 64, 66, 68, 70, 72, 74, 76,\n",
              "        78]),\n",
              " <BarContainer object of 34 artists>)"
            ]
          },
          "execution_count": 68,
          "metadata": {},
          "output_type": "execute_result"
        },
        {
          "data": {
            "image/png": "[encoded data removed]",
            "text/plain": [
              "<Figure size 864x432 with 1 Axes>"
            ]
          },
          "metadata": {
            "needs_background": "light"
          },
          "output_type": "display_data"
        }
      ],
      "source": [
        "# Age Distribution of the participants\n",
        "\n",
        "plt.figure(figsize=(12,6))\n",
        "plt.title(\"Age distribution of the athletes\")\n",
        "plt.xlabel('Age')\n",
        "plt.ylabel('Number of participants')\n",
        "plt.hist(df.Age, bins= np.arange(10, 80, 2), color='orange', edgecolor='white')\n"
      ]
    },
    {
      "cell_type": "code",
      "execution_count": null,
      "metadata": {
        "ExecuteTime": {
          "end_time": "2022-04-27T14:21:01.437759Z",
          "start_time": "2022-04-27T14:21:01.359044Z"
        },
        "id": "pgvSNcWj4wGM",
        "outputId": "d86986cd-1457-46f1-9201-48a73eff4d7d"
      },
      "outputs": [
        {
          "data": {
            "text/plain": [
              "[(1, 'Speed Skating'),\n",
              " (2, 'Cross Country Skiing'),\n",
              " (3, 'Ice Hockey'),\n",
              " (4, 'Biathlon'),\n",
              " (5, 'Alpine Skiing'),\n",
              " (6, 'Luge'),\n",
              " (7, 'Bobsleigh'),\n",
              " (8, 'Figure Skating'),\n",
              " (9, 'Nordic Combined'),\n",
              " (10, 'Freestyle Skiing'),\n",
              " (11, 'Ski Jumping'),\n",
              " (12, 'Curling'),\n",
              " (13, 'Snowboarding'),\n",
              " (14, 'Short Track Speed Skating'),\n",
              " (15, 'Skeleton'),\n",
              " (16, 'Military Ski Patrol'),\n",
              " (17, 'Alpinism')]"
            ]
          },
          "execution_count": 91,
          "metadata": {},
          "output_type": "execute_result"
        }
      ],
      "source": [
        "winter_sports = df[df['Season'] == 'Winter']['Sport'].unique()\n",
        "[(index+1, element) for index, element in enumerate(winter_sports)]"
      ]
    },
    {
      "cell_type": "code",
      "execution_count": null,
      "metadata": {
        "ExecuteTime": {
          "end_time": "2022-04-27T14:21:38.227192Z",
          "start_time": "2022-04-27T14:21:38.100020Z"
        },
        "id": "S5MVHfJs4wGM",
        "outputId": "58a58ca5-cc38-48de-bba2-15404bf3e1d0"
      },
      "outputs": [
        {
          "data": {
            "text/plain": [
              "[(1, 'Basketball'),\n",
              " (2, 'Judo'),\n",
              " (3, 'Football'),\n",
              " (4, 'Tug-Of-War'),\n",
              " (5, 'Athletics'),\n",
              " (6, 'Swimming'),\n",
              " (7, 'Badminton'),\n",
              " (8, 'Sailing'),\n",
              " (9, 'Gymnastics'),\n",
              " (10, 'Art Competitions'),\n",
              " (11, 'Handball'),\n",
              " (12, 'Weightlifting'),\n",
              " (13, 'Wrestling'),\n",
              " (14, 'Water Polo'),\n",
              " (15, 'Hockey'),\n",
              " (16, 'Rowing'),\n",
              " (17, 'Fencing'),\n",
              " (18, 'Equestrianism'),\n",
              " (19, 'Shooting'),\n",
              " (20, 'Boxing'),\n",
              " (21, 'Taekwondo'),\n",
              " (22, 'Cycling'),\n",
              " (23, 'Diving'),\n",
              " (24, 'Canoeing'),\n",
              " (25, 'Tennis'),\n",
              " (26, 'Modern Pentathlon'),\n",
              " (27, 'Golf'),\n",
              " (28, 'Softball'),\n",
              " (29, 'Archery'),\n",
              " (30, 'Volleyball'),\n",
              " (31, 'Synchronized Swimming'),\n",
              " (32, 'Table Tennis'),\n",
              " (33, 'Baseball'),\n",
              " (34, 'Rhythmic Gymnastics'),\n",
              " (35, 'Rugby Sevens'),\n",
              " (36, 'Trampolining'),\n",
              " (37, 'Beach Volleyball'),\n",
              " (38, 'Triathlon'),\n",
              " (39, 'Rugby'),\n",
              " (40, 'Lacrosse'),\n",
              " (41, 'Polo'),\n",
              " (42, 'Cricket'),\n",
              " (43, 'Ice Hockey'),\n",
              " (44, 'Racquets'),\n",
              " (45, 'Motorboating'),\n",
              " (46, 'Croquet'),\n",
              " (47, 'Figure Skating'),\n",
              " (48, 'Jeu De Paume'),\n",
              " (49, 'Roque'),\n",
              " (50, 'Basque Pelota'),\n",
              " (51, 'Alpinism'),\n",
              " (52, 'Aeronautics')]"
            ]
          },
          "execution_count": 93,
          "metadata": {},
          "output_type": "execute_result"
        }
      ],
      "source": [
        "summer_sports = df[df['Season'] == 'Summer']['Sport'].unique()\n",
        "[(index+1, element) for index, element in enumerate(summer_sports)]"
      ]
    },
    {
      "cell_type": "code",
      "execution_count": null,
      "metadata": {
        "ExecuteTime": {
          "end_time": "2022-04-27T15:42:20.567495Z",
          "start_time": "2022-04-27T15:42:20.233021Z"
        },
        "id": "g7DfZxWd4wGN",
        "outputId": "6e344033-6e22-4301-bf4c-0172e8e8710f"
      },
      "outputs": [
        {
          "data": {
            "text/plain": [
              "M    196594\n",
              "F     74522\n",
              "Name: Sex, dtype: int64"
            ]
          },
          "execution_count": 94,
          "metadata": {},
          "output_type": "execute_result"
        }
      ],
      "source": [
        "gender_count = df.Sex.value_counts()\n",
        "gender_count"
      ]
    },
    {
      "cell_type": "code",
      "execution_count": null,
      "metadata": {
        "ExecuteTime": {
          "end_time": "2022-04-27T15:54:24.803139Z",
          "start_time": "2022-04-27T15:54:24.752492Z"
        },
        "id": "U_Mtjyg54wGO",
        "outputId": "ae00feb1-a855-44cf-b37c-bbf5a69249c6"
      },
      "outputs": [
        {
          "data": {
            "text/plain": [
              "Year  Sex\n",
              "1896  M       380\n",
              "1900  F        33\n",
              "      M      1903\n",
              "1904  F        16\n",
              "      M      1285\n",
              "             ... \n",
              "2012  M      7105\n",
              "2014  F      2023\n",
              "      M      2868\n",
              "2016  F      6223\n",
              "      M      7465\n",
              "Name: Year, Length: 69, dtype: int64"
            ]
          },
          "execution_count": 109,
          "metadata": {},
          "output_type": "execute_result"
        }
      ],
      "source": [
        "# Group by Sex, by Years.\n",
        "\n",
        "df.groupby([ 'Year', 'Sex'])['Year'].count()"
      ]
    },
    {
      "cell_type": "code",
      "execution_count": null,
      "metadata": {
        "ExecuteTime": {
          "end_time": "2022-04-27T16:08:44.820188Z",
          "start_time": "2022-04-27T16:08:44.707569Z"
        },
        "id": "DMeXVx7n4wGO",
        "outputId": "ca05cb1e-7a84-42da-80a8-8a87ba49b85c"
      },
      "outputs": [
        {
          "data": {
            "text/plain": [
              "([<matplotlib.patches.Wedge at 0x1ca20269880>,\n",
              "  <matplotlib.patches.Wedge at 0x1ca20288cd0>],\n",
              " [Text(0.20089640434146097, -1.081499253223354, 'M'),\n",
              "  Text(-0.2008963030841931, 1.081499272032628, 'F')],\n",
              " [Text(0.10957985691352415, -0.5899086835763748, '72.51%'),\n",
              "  Text(-0.10957980168228713, 0.5899086938359788, '27.49%')])"
            ]
          },
          "execution_count": 124,
          "metadata": {},
          "output_type": "execute_result"
        },
        {
          "data": {
            "image/png": "[encoded data removed]",
            "text/plain": [
              "<Figure size 1008x576 with 1 Axes>"
            ]
          },
          "metadata": {},
          "output_type": "display_data"
        }
      ],
      "source": [
        "# Pie plot for male and female athletes. \n",
        "# !- autopct means autopercent \n",
        "\n",
        "plt.figure(figsize=(14,8))\n",
        "plt.title('Participants Distribution by Gender')\n",
        "plt.pie(gender_count, labels=gender_count.index, autopct='%.2f%%', startangle=150, shadow=True)"
      ]
    },
    {
      "cell_type": "code",
      "execution_count": null,
      "metadata": {
        "ExecuteTime": {
          "end_time": "2022-04-27T22:14:48.907270Z",
          "start_time": "2022-04-27T22:14:48.820356Z"
        },
        "id": "Z1bnG58m4wGP",
        "outputId": "ee1295aa-985a-48f7-ba65-5ca9cf2838a7"
      },
      "outputs": [
        {
          "name": "stdout",
          "output_type": "stream",
          "text": [
            "Medal\n",
            "Bronze    13295\n",
            "Gold      13372\n",
            "Silver    13116\n",
            "Name: Medal, dtype: int64\n"
          ]
        },
        {
          "data": {
            "text/plain": [
              "Gold      13372\n",
              "Bronze    13295\n",
              "Silver    13116\n",
              "Name: Medal, dtype: int64"
            ]
          },
          "execution_count": 138,
          "metadata": {},
          "output_type": "execute_result"
        }
      ],
      "source": [
        "# Total number of medals\n",
        "# Showed two types of findings\n",
        "\n",
        "print(df.groupby('Medal')['Medal'].count())\n",
        "\n",
        "df.Medal.value_counts()"
      ]
    },
    {
      "cell_type": "code",
      "execution_count": null,
      "metadata": {
        "ExecuteTime": {
          "end_time": "2022-04-27T22:23:28.525911Z",
          "start_time": "2022-04-27T22:23:28.435421Z"
        },
        "id": "3R8xZHMk4wGQ"
      },
      "outputs": [],
      "source": [
        "wmolpic = df[(df.Sex == 'F') & (df.Season == 'Summer')]"
      ]
    },
    {
      "cell_type": "code",
      "execution_count": null,
      "metadata": {
        "ExecuteTime": {
          "end_time": "2022-04-27T22:24:47.713672Z",
          "start_time": "2022-04-27T22:24:46.922239Z"
        },
        "id": "DFH1uSJD4wGQ",
        "outputId": "9a03d8ec-4afd-4278-dbbe-1870009b346b"
      },
      "outputs": [
        {
          "data": {
            "text/plain": [
              "Text(0.5, 1.0, 'Women Participation')"
            ]
          },
          "execution_count": 142,
          "metadata": {},
          "output_type": "execute_result"
        },
        {
          "data": {
            "image/png": "[encoded data removed]",
            "text/plain": [
              "<Figure size 1008x576 with 1 Axes>"
            ]
          },
          "metadata": {},
          "output_type": "display_data"
        }
      ],
      "source": [
        "sns.set(style='darkgrid')\n",
        "plt.figure(figsize=(14,8))\n",
        "sns.countplot(x='Year', data=wmolpic, palette='Spectral')\n",
        "plt.title('Women Participation')"
      ]
    },
    {
      "cell_type": "code",
      "execution_count": null,
      "metadata": {
        "ExecuteTime": {
          "end_time": "2022-04-27T22:37:35.240327Z",
          "start_time": "2022-04-27T22:37:34.437993Z"
        },
        "id": "UK6viLk04wGR",
        "outputId": "1b721c4f-02d4-4d0a-d006-e11d78ee5908"
      },
      "outputs": [
        {
          "name": "stdout",
          "output_type": "stream",
          "text": [
            "Year  Sex\n",
            "1900  F        33\n",
            "1904  F        16\n",
            "1906  F        11\n",
            "1908  F        47\n",
            "1912  F        87\n",
            "1920  F       134\n",
            "1924  F       244\n",
            "1928  F       404\n",
            "1932  F       347\n",
            "1936  F       468\n",
            "1948  F       628\n",
            "1952  F      1497\n",
            "1956  F       893\n",
            "1960  F      1435\n",
            "1964  F      1348\n",
            "1968  F      1777\n",
            "1972  F      2193\n",
            "1976  F      2172\n",
            "1980  F      1756\n",
            "1984  F      2447\n",
            "1988  F      3543\n",
            "1992  F      4124\n",
            "1996  F      5008\n",
            "2000  F      5431\n",
            "2004  F      5546\n",
            "2008  F      5816\n",
            "2012  F      5815\n",
            "2016  F      6223\n",
            "Name: Sex, dtype: int64\n"
          ]
        },
        {
          "data": {
            "text/plain": [
              "Text(0.5, 1.0, 'Plot of the female')"
            ]
          },
          "execution_count": 146,
          "metadata": {},
          "output_type": "execute_result"
        },
        {
          "data": {
            "image/png": "[encoded data removed]",
            "text/plain": [
              "<Figure size 1008x576 with 1 Axes>"
            ]
          },
          "metadata": {},
          "output_type": "display_data"
        }
      ],
      "source": [
        "participation = wmolpic.groupby('Year')['Sex'].value_counts()\n",
        "print(participation)\n",
        "plt.figure(figsize=(14,8))\n",
        "participation.loc[: , 'F'].plot()\n",
        "plt.title(\"Plot of the female\")"
      ]
    },
    {
      "cell_type": "code",
      "execution_count": null,
      "metadata": {
        "ExecuteTime": {
          "end_time": "2022-04-27T23:01:12.304786Z",
          "start_time": "2022-04-27T23:01:12.267601Z"
        },
        "id": "gQi4YKDB4wGS",
        "outputId": "766636ef-b982-414f-af81-f3695db1f1e5"
      },
      "outputs": [
        {
          "data": {
            "text/html": [
              "<div>\n",
              "<style scoped>\n",
              "    .dataframe tbody tr th:only-of-type {\n",
              "        vertical-align: middle;\n",
              "    }\n",
              "\n",
              "    .dataframe tbody tr th {\n",
              "        vertical-align: top;\n",
              "    }\n",
              "\n",
              "    .dataframe thead th {\n",
              "        text-align: right;\n",
              "    }\n",
              "</style>\n",
              "<table border=\"1\" class=\"dataframe\">\n",
              "  <thead>\n",
              "    <tr style=\"text-align: right;\">\n",
              "      <th></th>\n",
              "      <th>ID</th>\n",
              "      <th>Name</th>\n",
              "      <th>Sex</th>\n",
              "      <th>Age</th>\n",
              "      <th>Height</th>\n",
              "      <th>Weight</th>\n",
              "      <th>Team</th>\n",
              "      <th>NOC</th>\n",
              "      <th>Games</th>\n",
              "      <th>Year</th>\n",
              "      <th>Season</th>\n",
              "      <th>City</th>\n",
              "      <th>Sport</th>\n",
              "      <th>Event</th>\n",
              "      <th>Medal</th>\n",
              "      <th>Region</th>\n",
              "      <th>Notes</th>\n",
              "    </tr>\n",
              "  </thead>\n",
              "  <tbody>\n",
              "    <tr>\n",
              "      <th>3</th>\n",
              "      <td>4</td>\n",
              "      <td>Edgar Lindenau Aabye</td>\n",
              "      <td>M</td>\n",
              "      <td>34.0</td>\n",
              "      <td>NaN</td>\n",
              "      <td>NaN</td>\n",
              "      <td>Denmark/Sweden</td>\n",
              "      <td>DEN</td>\n",
              "      <td>1900 Summer</td>\n",
              "      <td>1900</td>\n",
              "      <td>Summer</td>\n",
              "      <td>Paris</td>\n",
              "      <td>Tug-Of-War</td>\n",
              "      <td>Tug-Of-War Men's Tug-Of-War</td>\n",
              "      <td>Gold</td>\n",
              "      <td>Denmark</td>\n",
              "      <td>NaN</td>\n",
              "    </tr>\n",
              "    <tr>\n",
              "      <th>42</th>\n",
              "      <td>17</td>\n",
              "      <td>Paavo Johannes Aaltonen</td>\n",
              "      <td>M</td>\n",
              "      <td>28.0</td>\n",
              "      <td>175.0</td>\n",
              "      <td>64.0</td>\n",
              "      <td>Finland</td>\n",
              "      <td>FIN</td>\n",
              "      <td>1948 Summer</td>\n",
              "      <td>1948</td>\n",
              "      <td>Summer</td>\n",
              "      <td>London</td>\n",
              "      <td>Gymnastics</td>\n",
              "      <td>Gymnastics Men's Team All-Around</td>\n",
              "      <td>Gold</td>\n",
              "      <td>Finland</td>\n",
              "      <td>NaN</td>\n",
              "    </tr>\n",
              "    <tr>\n",
              "      <th>44</th>\n",
              "      <td>17</td>\n",
              "      <td>Paavo Johannes Aaltonen</td>\n",
              "      <td>M</td>\n",
              "      <td>28.0</td>\n",
              "      <td>175.0</td>\n",
              "      <td>64.0</td>\n",
              "      <td>Finland</td>\n",
              "      <td>FIN</td>\n",
              "      <td>1948 Summer</td>\n",
              "      <td>1948</td>\n",
              "      <td>Summer</td>\n",
              "      <td>London</td>\n",
              "      <td>Gymnastics</td>\n",
              "      <td>Gymnastics Men's Horse Vault</td>\n",
              "      <td>Gold</td>\n",
              "      <td>Finland</td>\n",
              "      <td>NaN</td>\n",
              "    </tr>\n",
              "    <tr>\n",
              "      <th>48</th>\n",
              "      <td>17</td>\n",
              "      <td>Paavo Johannes Aaltonen</td>\n",
              "      <td>M</td>\n",
              "      <td>28.0</td>\n",
              "      <td>175.0</td>\n",
              "      <td>64.0</td>\n",
              "      <td>Finland</td>\n",
              "      <td>FIN</td>\n",
              "      <td>1948 Summer</td>\n",
              "      <td>1948</td>\n",
              "      <td>Summer</td>\n",
              "      <td>London</td>\n",
              "      <td>Gymnastics</td>\n",
              "      <td>Gymnastics Men's Pommelled Horse</td>\n",
              "      <td>Gold</td>\n",
              "      <td>Finland</td>\n",
              "      <td>NaN</td>\n",
              "    </tr>\n",
              "    <tr>\n",
              "      <th>60</th>\n",
              "      <td>20</td>\n",
              "      <td>Kjetil Andr Aamodt</td>\n",
              "      <td>M</td>\n",
              "      <td>20.0</td>\n",
              "      <td>176.0</td>\n",
              "      <td>85.0</td>\n",
              "      <td>Norway</td>\n",
              "      <td>NOR</td>\n",
              "      <td>1992 Winter</td>\n",
              "      <td>1992</td>\n",
              "      <td>Winter</td>\n",
              "      <td>Albertville</td>\n",
              "      <td>Alpine Skiing</td>\n",
              "      <td>Alpine Skiing Men's Super G</td>\n",
              "      <td>Gold</td>\n",
              "      <td>Norway</td>\n",
              "      <td>NaN</td>\n",
              "    </tr>\n",
              "  </tbody>\n",
              "</table>\n",
              "</div>"
            ],
            "text/plain": [
              "    ID                     Name Sex   Age  Height  Weight            Team  \\\n",
              "3    4     Edgar Lindenau Aabye   M  34.0     NaN     NaN  Denmark/Sweden   \n",
              "42  17  Paavo Johannes Aaltonen   M  28.0   175.0    64.0         Finland   \n",
              "44  17  Paavo Johannes Aaltonen   M  28.0   175.0    64.0         Finland   \n",
              "48  17  Paavo Johannes Aaltonen   M  28.0   175.0    64.0         Finland   \n",
              "60  20       Kjetil Andr Aamodt   M  20.0   176.0    85.0          Norway   \n",
              "\n",
              "    NOC        Games  Year  Season         City          Sport  \\\n",
              "3   DEN  1900 Summer  1900  Summer        Paris     Tug-Of-War   \n",
              "42  FIN  1948 Summer  1948  Summer       London     Gymnastics   \n",
              "44  FIN  1948 Summer  1948  Summer       London     Gymnastics   \n",
              "48  FIN  1948 Summer  1948  Summer       London     Gymnastics   \n",
              "60  NOR  1992 Winter  1992  Winter  Albertville  Alpine Skiing   \n",
              "\n",
              "                               Event Medal   Region Notes  \n",
              "3        Tug-Of-War Men's Tug-Of-War  Gold  Denmark   NaN  \n",
              "42  Gymnastics Men's Team All-Around  Gold  Finland   NaN  \n",
              "44      Gymnastics Men's Horse Vault  Gold  Finland   NaN  \n",
              "48  Gymnastics Men's Pommelled Horse  Gold  Finland   NaN  \n",
              "60       Alpine Skiing Men's Super G  Gold   Norway   NaN  "
            ]
          },
          "execution_count": 148,
          "metadata": {},
          "output_type": "execute_result"
        }
      ],
      "source": [
        "# Gold medals\n",
        "\n",
        "gold_medals = df[df['Medal']=='Gold']\n",
        "gold_medals.head()"
      ]
    },
    {
      "cell_type": "code",
      "execution_count": null,
      "metadata": {
        "ExecuteTime": {
          "end_time": "2022-04-27T23:04:06.430802Z",
          "start_time": "2022-04-27T23:04:06.409123Z"
        },
        "id": "6QZKdfL34wGS",
        "outputId": "8902de9e-ad02-49ed-da46-dafaf08dc857"
      },
      "outputs": [
        {
          "data": {
            "text/plain": [
              "6"
            ]
          },
          "execution_count": 149,
          "metadata": {},
          "output_type": "execute_result"
        }
      ],
      "source": [
        "gold_medals.ID[gold_medals.Age > 60].count()"
      ]
    },
    {
      "cell_type": "code",
      "execution_count": null,
      "metadata": {
        "ExecuteTime": {
          "end_time": "2022-04-27T23:13:21.116204Z",
          "start_time": "2022-04-27T23:13:21.097910Z"
        },
        "id": "b_L7DVtK4wGT",
        "outputId": "61f62fb2-2113-47d9-fbc4-f6479ef50c79"
      },
      "outputs": [
        {
          "data": {
            "text/html": [
              "<div>\n",
              "<style scoped>\n",
              "    .dataframe tbody tr th:only-of-type {\n",
              "        vertical-align: middle;\n",
              "    }\n",
              "\n",
              "    .dataframe tbody tr th {\n",
              "        vertical-align: top;\n",
              "    }\n",
              "\n",
              "    .dataframe thead th {\n",
              "        text-align: right;\n",
              "    }\n",
              "</style>\n",
              "<table border=\"1\" class=\"dataframe\">\n",
              "  <thead>\n",
              "    <tr style=\"text-align: right;\">\n",
              "      <th></th>\n",
              "      <th>Sport</th>\n",
              "      <th>Age</th>\n",
              "      <th>Team</th>\n",
              "      <th>Year</th>\n",
              "    </tr>\n",
              "  </thead>\n",
              "  <tbody>\n",
              "    <tr>\n",
              "      <th>104003</th>\n",
              "      <td>Art Competitions</td>\n",
              "      <td>63.0</td>\n",
              "      <td>Netherlands</td>\n",
              "      <td>1928</td>\n",
              "    </tr>\n",
              "    <tr>\n",
              "      <th>105199</th>\n",
              "      <td>Roque</td>\n",
              "      <td>64.0</td>\n",
              "      <td>United States</td>\n",
              "      <td>1904</td>\n",
              "    </tr>\n",
              "    <tr>\n",
              "      <th>190952</th>\n",
              "      <td>Archery</td>\n",
              "      <td>63.0</td>\n",
              "      <td>Cincinnati Archers</td>\n",
              "      <td>1904</td>\n",
              "    </tr>\n",
              "    <tr>\n",
              "      <th>226374</th>\n",
              "      <td>Archery</td>\n",
              "      <td>63.0</td>\n",
              "      <td>Potomac Archers</td>\n",
              "      <td>1904</td>\n",
              "    </tr>\n",
              "    <tr>\n",
              "      <th>233390</th>\n",
              "      <td>Shooting</td>\n",
              "      <td>64.0</td>\n",
              "      <td>Sweden</td>\n",
              "      <td>1912</td>\n",
              "    </tr>\n",
              "    <tr>\n",
              "      <th>261102</th>\n",
              "      <td>Archery</td>\n",
              "      <td>63.0</td>\n",
              "      <td>Potomac Archers</td>\n",
              "      <td>1904</td>\n",
              "    </tr>\n",
              "  </tbody>\n",
              "</table>\n",
              "</div>"
            ],
            "text/plain": [
              "                   Sport   Age                Team  Year\n",
              "104003  Art Competitions  63.0         Netherlands  1928\n",
              "105199             Roque  64.0       United States  1904\n",
              "190952           Archery  63.0  Cincinnati Archers  1904\n",
              "226374           Archery  63.0     Potomac Archers  1904\n",
              "233390          Shooting  64.0              Sweden  1912\n",
              "261102           Archery  63.0     Potomac Archers  1904"
            ]
          },
          "execution_count": 160,
          "metadata": {},
          "output_type": "execute_result"
        }
      ],
      "source": [
        "gold_medals[['Sport', 'Age', 'Team', 'Year']][gold_medals['Age'] > 60]"
      ]
    },
    {
      "cell_type": "code",
      "execution_count": null,
      "metadata": {
        "ExecuteTime": {
          "end_time": "2022-04-27T23:13:38.503945Z",
          "start_time": "2022-04-27T23:13:38.488448Z"
        },
        "id": "U-EYmh2R4wGT",
        "outputId": "fcd8b1a7-bd93-4ae1-cd38-d1a5af011778"
      },
      "outputs": [
        {
          "data": {
            "text/plain": [
              "104003    Art Competitions\n",
              "105199               Roque\n",
              "190952             Archery\n",
              "226374             Archery\n",
              "233390            Shooting\n",
              "261102             Archery\n",
              "Name: Sport, dtype: object"
            ]
          },
          "execution_count": 161,
          "metadata": {},
          "output_type": "execute_result"
        }
      ],
      "source": [
        "event = gold_medals['Sport'][gold_medals['Age'] > 60]\n",
        "event"
      ]
    },
    {
      "cell_type": "code",
      "execution_count": null,
      "metadata": {
        "ExecuteTime": {
          "end_time": "2022-04-27T23:24:22.297607Z",
          "start_time": "2022-04-27T23:24:22.084376Z"
        },
        "id": "R7QVaEgI4wGU",
        "outputId": "5b4134e1-1713-46fe-be9e-feb7e298b4d3"
      },
      "outputs": [
        {
          "data": {
            "text/plain": [
              "Text(0.5, 1.0, 'Gold Medals for Athletes over 60 years')"
            ]
          },
          "execution_count": 166,
          "metadata": {},
          "output_type": "execute_result"
        },
        {
          "data": {
            "image/png": "[encoded data removed]",
            "text/plain": [
              "<Figure size 864x432 with 1 Axes>"
            ]
          },
          "metadata": {},
          "output_type": "display_data"
        }
      ],
      "source": [
        "# Plot for sporting_event\n",
        "\n",
        "plt.figure(figsize=(12,6))\n",
        "plt.tight_layout()\n",
        "sns.countplot(x=event)\n",
        "plt.title('Gold Medals for Athletes over 60 years')"
      ]
    },
    {
      "cell_type": "code",
      "execution_count": null,
      "metadata": {
        "ExecuteTime": {
          "end_time": "2022-04-27T23:31:59.413175Z",
          "start_time": "2022-04-27T23:31:59.394226Z"
        },
        "id": "sXHO44jC4wGU",
        "outputId": "225a1a86-2951-4df0-f7ac-505c6ec64505"
      },
      "outputs": [
        {
          "data": {
            "text/html": [
              "<div>\n",
              "<style scoped>\n",
              "    .dataframe tbody tr th:only-of-type {\n",
              "        vertical-align: middle;\n",
              "    }\n",
              "\n",
              "    .dataframe tbody tr th {\n",
              "        vertical-align: top;\n",
              "    }\n",
              "\n",
              "    .dataframe thead th {\n",
              "        text-align: right;\n",
              "    }\n",
              "</style>\n",
              "<table border=\"1\" class=\"dataframe\">\n",
              "  <thead>\n",
              "    <tr style=\"text-align: right;\">\n",
              "      <th></th>\n",
              "      <th>index</th>\n",
              "      <th>Medal</th>\n",
              "    </tr>\n",
              "  </thead>\n",
              "  <tbody>\n",
              "    <tr>\n",
              "      <th>0</th>\n",
              "      <td>USA</td>\n",
              "      <td>2638</td>\n",
              "    </tr>\n",
              "    <tr>\n",
              "      <th>1</th>\n",
              "      <td>Russia</td>\n",
              "      <td>1599</td>\n",
              "    </tr>\n",
              "    <tr>\n",
              "      <th>2</th>\n",
              "      <td>Germany</td>\n",
              "      <td>1301</td>\n",
              "    </tr>\n",
              "    <tr>\n",
              "      <th>3</th>\n",
              "      <td>UK</td>\n",
              "      <td>678</td>\n",
              "    </tr>\n",
              "    <tr>\n",
              "      <th>4</th>\n",
              "      <td>Italy</td>\n",
              "      <td>575</td>\n",
              "    </tr>\n",
              "  </tbody>\n",
              "</table>\n",
              "</div>"
            ],
            "text/plain": [
              "     index  Medal\n",
              "0      USA   2638\n",
              "1   Russia   1599\n",
              "2  Germany   1301\n",
              "3       UK    678\n",
              "4    Italy    575"
            ]
          },
          "execution_count": 170,
          "metadata": {},
          "output_type": "execute_result"
        }
      ],
      "source": [
        "# Gold Medals from each country\n",
        "\n",
        "gold_medals['Region'].value_counts().reset_index(name='Medal').head(5)"
      ]
    },
    {
      "cell_type": "code",
      "execution_count": null,
      "metadata": {
        "ExecuteTime": {
          "end_time": "2022-04-27T23:42:16.142654Z",
          "start_time": "2022-04-27T23:42:15.939496Z"
        },
        "id": "OBuOU5Br4wGV",
        "outputId": "a7210151-95c1-4069-9e50-3862929dbf67"
      },
      "outputs": [
        {
          "data": {
            "text/plain": [
              "Text(0.5, 1.0, 'Gold medals per country')"
            ]
          },
          "execution_count": 177,
          "metadata": {},
          "output_type": "execute_result"
        },
        {
          "data": {
            "image/png": "[encoded data removed]",
            "text/plain": [
              "<Figure size 360x360 with 1 Axes>"
            ]
          },
          "metadata": {},
          "output_type": "display_data"
        }
      ],
      "source": [
        "totalGoldMedals = gold_medals['Region'].value_counts().reset_index(name='Medal').head(6)\n",
        "g = sns.catplot(x='index', y='Medal', data=totalGoldMedals, height=5, kind='bar', palette='rocket')\n",
        "g.despine(left=True)\n",
        "g.set_xlabels('Top 6 countries')\n",
        "g.set_ylabels('Number of medals')\n",
        "plt.title('Gold medals per country')"
      ]
    },
    {
      "cell_type": "code",
      "execution_count": null,
      "metadata": {
        "ExecuteTime": {
          "end_time": "2022-04-27T23:46:12.377858Z",
          "start_time": "2022-04-27T23:46:12.342950Z"
        },
        "id": "6rZTVPPG4wGW",
        "outputId": "9531a2eb-8980-4ab4-8bc7-4bf6f54f2325"
      },
      "outputs": [
        {
          "name": "stdout",
          "output_type": "stream",
          "text": [
            "2016\n"
          ]
        },
        {
          "data": {
            "text/plain": [
              "United States    137\n",
              "Great Britain     64\n",
              "Russia            50\n",
              "Germany           47\n",
              "China             44\n",
              "Brazil            34\n",
              "Australia         23\n",
              "Argentina         21\n",
              "France            20\n",
              "Japan             17\n",
              "Name: Team, dtype: int64"
            ]
          },
          "execution_count": 180,
          "metadata": {},
          "output_type": "execute_result"
        }
      ],
      "source": [
        "# Rio olympics\n",
        "\n",
        "max_year = df.Year.max()\n",
        "print(max_year)\n",
        "\n",
        "team_names = df[(df.Year == max_year) & (df.Medal == 'Gold')]['Team']\n",
        "team_names.value_counts().head(10)"
      ]
    },
    {
      "cell_type": "code",
      "execution_count": null,
      "metadata": {
        "ExecuteTime": {
          "end_time": "2022-04-27T23:50:11.524650Z",
          "start_time": "2022-04-27T23:50:11.257487Z"
        },
        "id": "orMBTdAI4wGW",
        "outputId": "5d3f227a-2b18-4270-dcdd-6201bf7a0613"
      },
      "outputs": [
        {
          "data": {
            "text/plain": [
              "Text(0.5, 0, 'Countrywise Medals for the year 2016')"
            ]
          },
          "execution_count": 181,
          "metadata": {},
          "output_type": "execute_result"
        },
        {
          "data": {
            "image/png": "[encoded data removed]",
            "text/plain": [
              "<Figure size 432x288 with 1 Axes>"
            ]
          },
          "metadata": {},
          "output_type": "display_data"
        }
      ],
      "source": [
        "sns.barplot(x=team_names.value_counts().head(20), y=team_names.value_counts().head(20).index)\n",
        "plt.ylabel(None)\n",
        "plt.xlabel('Countrywise Medals for the year 2016')"
      ]
    },
    {
      "cell_type": "code",
      "execution_count": null,
      "metadata": {
        "ExecuteTime": {
          "end_time": "2022-04-28T00:13:43.482672Z",
          "start_time": "2022-04-28T00:13:43.448761Z"
        },
        "id": "pKV4TvPu4wGX"
      },
      "outputs": [],
      "source": [
        "not_null_medals = df[(df['Height'].notnull()) & (df['Weight'].notnull())]\n"
      ]
    },
    {
      "cell_type": "code",
      "execution_count": null,
      "metadata": {
        "ExecuteTime": {
          "end_time": "2022-04-28T00:16:30.816874Z",
          "start_time": "2022-04-28T00:16:26.360504Z"
        },
        "id": "ucido-s84wGX",
        "outputId": "0aa0e9e6-f8a9-459a-c206-db829cecbcad"
      },
      "outputs": [
        {
          "data": {
            "text/plain": [
              "Text(0.5, 1.0, 'Height vs Weight of Olympic medalists')"
            ]
          },
          "execution_count": 184,
          "metadata": {},
          "output_type": "execute_result"
        },
        {
          "data": {
            "image/png": "[encoded data removed]",
            "text/plain": [
              "<Figure size 864x720 with 1 Axes>"
            ]
          },
          "metadata": {},
          "output_type": "display_data"
        }
      ],
      "source": [
        "plt.figure(figsize=(12,10))\n",
        "axis = sns.scatterplot(x='Height', y='Weight', data=not_null_medals, hue='Sex')\n",
        "plt.title('Height vs Weight of Olympic medalists')"
      ]
    },
    {
      "cell_type": "code",
      "execution_count": null,
      "metadata": {
        "id": "EZchfHr64wGY"
      },
      "outputs": [],
      "source": [
        ""
      ]
    }
  ],
  "metadata": {
    "hide_input": false,
    "kernelspec": {
      "display_name": "Python 3",
      "language": "python",
      "name": "python3"
    },
    "language_info": {
      "codemirror_mode": {
        "name": "ipython",
        "version": 3
      },
      "file_extension": ".py",
      "mimetype": "text/x-python",
      "name": "python",
      "nbconvert_exporter": "python",
      "pygments_lexer": "ipython3",
      "version": "3.8.5"
    },
    "toc": {
      "base_numbering": 1,
      "nav_menu": {},
      "number_sections": true,
      "sideBar": true,
      "skip_h1_title": false,
      "title_cell": "Table of Contents",
      "title_sidebar": "Contents",
      "toc_cell": false,
      "toc_position": {},
      "toc_section_display": true,
      "toc_window_display": false
    },
    "varInspector": {
      "cols": {
        "lenName": 16,
        "lenType": 16,
        "lenVar": 40
      },
      "kernels_config": {
        "python": {
          "delete_cmd_postfix": "",
          "delete_cmd_prefix": "del ",
          "library": "var_list.py",
          "varRefreshCmd": "print(var_dic_list())"
        },
        "r": {
          "delete_cmd_postfix": ") ",
          "delete_cmd_prefix": "rm(",
          "library": "var_list.r",
          "varRefreshCmd": "cat(var_dic_list()) "
        }
      },
      "types_to_exclude": [
        "module",
        "function",
        "builtin_function_or_method",
        "instance",
        "_Feature"
      ],
      "window_display": false
    },
    "colab": {
      "name": "Olympics Dataset Analysis.ipynb",
      "provenance": [],
      "include_colab_link": true
    }
  },
  "nbformat": 4,
  "nbformat_minor": 0
}